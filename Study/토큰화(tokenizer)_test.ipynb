{
 "cells": [
  {
   "cell_type": "markdown",
   "id": "6e7426a3",
   "metadata": {},
   "source": [
    "예제 1"
   ]
  },
  {
   "cell_type": "code",
   "execution_count": 29,
   "id": "baae1ad3",
   "metadata": {
    "scrolled": true
   },
   "outputs": [
    {
     "name": "stdout",
     "output_type": "stream",
     "text": [
      "Requirement already satisfied: nltk in c:\\users\\dudco\\anaconda3\\lib\\site-packages (3.6.1)Note: you may need to restart the kernel to use updated packages.\n",
      "\n",
      "Requirement already satisfied: click in c:\\users\\dudco\\anaconda3\\lib\\site-packages (from nltk) (7.1.2)\n",
      "Requirement already satisfied: tqdm in c:\\users\\dudco\\anaconda3\\lib\\site-packages (from nltk) (4.59.0)\n",
      "Requirement already satisfied: joblib in c:\\users\\dudco\\anaconda3\\lib\\site-packages (from nltk) (1.0.1)\n",
      "Requirement already satisfied: regex in c:\\users\\dudco\\anaconda3\\lib\\site-packages (from nltk) (2021.4.4)\n"
     ]
    }
   ],
   "source": [
    "pip install nltk"
   ]
  },
  {
   "cell_type": "code",
   "execution_count": 31,
   "id": "780841c7",
   "metadata": {},
   "outputs": [
    {
     "name": "stderr",
     "output_type": "stream",
     "text": [
      "[nltk_data] Downloading package punkt to\n",
      "[nltk_data]     C:\\Users\\dudco\\AppData\\Roaming\\nltk_data...\n",
      "[nltk_data]   Unzipping tokenizers\\punkt.zip.\n"
     ]
    },
    {
     "data": {
      "text/plain": [
       "True"
      ]
     },
     "execution_count": 31,
     "metadata": {},
     "output_type": "execute_result"
    }
   ],
   "source": [
    "import nltk\n",
    "nltk.download('punkt')"
   ]
  },
  {
   "cell_type": "code",
   "execution_count": 23,
   "id": "e3d43a74",
   "metadata": {},
   "outputs": [],
   "source": [
    "from tensorflow.keras.preprocessing.text import Tokenizer\n",
    "from nltk.tokenize import sent_tokenize\n",
    "from konlpy.tag import Okt\n",
    "from konlpy.tag import Hannanum\n",
    "from konlpy.tag import Kkma\n",
    "okt = Okt()\n",
    "hannanum = Hannanum()\n",
    "kkma = Kkma()"
   ]
  },
  {
   "cell_type": "code",
   "execution_count": 12,
   "id": "a43de69e",
   "metadata": {},
   "outputs": [
    {
     "name": "stdout",
     "output_type": "stream",
     "text": [
      "Hello, My name is Youngchea Lee.\n",
      "안녕하세요, 내 이름은 이영채 입니다.\n"
     ]
    }
   ],
   "source": [
    "text1 = \"Hello, My name is Youngchea Lee.\"\n",
    "text2 = \"안녕하세요, 내 이름은 이영채 입니다.\"\n",
    "print(text1)\n",
    "print(text2)"
   ]
  },
  {
   "cell_type": "code",
   "execution_count": 22,
   "id": "85fbec8e",
   "metadata": {},
   "outputs": [
    {
     "name": "stdout",
     "output_type": "stream",
     "text": [
      "okt사용 토큰화\n",
      "\n",
      "['Hello', ',', 'My', 'name', 'is', 'Youngchea', 'Lee', '.']\n",
      "['안녕하세요', ',', '내', '이름', '은', '이', '영채', '입니다', '.']\n"
     ]
    }
   ],
   "source": [
    "print(\"Okt사용 토큰화\")\n",
    "print(\"\")\n",
    "print(okt.morphs(text1))\n",
    "print(okt.morphs(text2))"
   ]
  },
  {
   "cell_type": "code",
   "execution_count": 25,
   "id": "c6adf620",
   "metadata": {},
   "outputs": [
    {
     "name": "stdout",
     "output_type": "stream",
     "text": [
      "Hannanum사용 토큰화\n",
      "['Hello', ',', 'My', 'name', 'is', 'Youngchea', 'Lee', '.']\n",
      "['안녕', '하', '세', '요', ',', '내', '이름', '은', '이영채', '일', 'ㅂ니다', '.']\n"
     ]
    }
   ],
   "source": [
    "print(\"Hannanum사용 토큰화\")\n",
    "\n",
    "print(hannanum.morphs(text1))\n",
    "print(hannanum.morphs(text2))"
   ]
  },
  {
   "cell_type": "code",
   "execution_count": 26,
   "id": "4e2b1bf0",
   "metadata": {},
   "outputs": [
    {
     "name": "stdout",
     "output_type": "stream",
     "text": [
      "Kkma사용 토큰화\n",
      "['Hello', ',', 'My', 'name', 'is', 'Youngchea', 'Lee', '.']\n",
      "['안녕', '하세', '요', ',', '내', '이름', '은', '이', '영채', '이', 'ㅂ니다', '.']\n"
     ]
    }
   ],
   "source": [
    "print(\"Kkma사용 토큰화\")\n",
    "\n",
    "print(kkma.morphs(text1))\n",
    "print(kkma.morphs(text2))"
   ]
  },
  {
   "cell_type": "code",
   "execution_count": 33,
   "id": "68ca2abe",
   "metadata": {},
   "outputs": [
    {
     "name": "stdout",
     "output_type": "stream",
     "text": [
      "sent_tokenize 사용 토큰화\n",
      "['Hello, My name is Youngchea Lee.', 'I started my nudergrad in 18.', \"I'm a student of BigData Engineering at SCH university.\"]\n",
      "['안녕하세요, 내 이름은 이영채입니다.', '저는 18학번입니다.', '순천향대학교 빅데이터공학과에 재학중입니다.']\n"
     ]
    }
   ],
   "source": [
    "text3 = \"Hello, My name is Youngchea Lee. I started my nudergrad in 18. I'm a student of BigData Engineering at SCH university.\"\n",
    "text4 = \"안녕하세요, 내 이름은 이영채입니다. 저는 18학번입니다. 순천향대학교 빅데이터공학과에 재학중입니다.\"\n",
    "print(\"sent_tokenize 사용 토큰화\")\n",
    "print(sent_tokenize(text3))\n",
    "print(sent_tokenize(text4))"
   ]
  },
  {
   "cell_type": "markdown",
   "id": "be72e608",
   "metadata": {},
   "source": [
    "예제 2"
   ]
  },
  {
   "cell_type": "code",
   "execution_count": 2,
   "id": "a7cc4270",
   "metadata": {},
   "outputs": [],
   "source": [
    "import tensorflow as tf\n",
    "from tensorflow import keras\n",
    "from tensorflow.keras.preprocessing.text import Tokenizer"
   ]
  },
  {
   "cell_type": "code",
   "execution_count": 5,
   "id": "2f7f2645",
   "metadata": {},
   "outputs": [],
   "source": [
    "setences = ['I love my dog.','I love my cat','You love my dog!']"
   ]
  },
  {
   "cell_type": "code",
   "execution_count": 6,
   "id": "091ccc09",
   "metadata": {},
   "outputs": [
    {
     "name": "stdout",
     "output_type": "stream",
     "text": [
      "{'love': 1, 'my': 2, 'i': 3, 'dog': 4, 'cat': 5, 'you': 6}\n"
     ]
    }
   ],
   "source": [
    "tokenizer = Tokenizer(num_words = 100)    #num_words 단어 개수 제한\n",
    "tokenizer.fit_on_texts(setences)    #fit_on_texts 문자 데이터를 입력받아 리스트 형태로 반환\n",
    "word_index = tokenizer.word_index   #단어와 숫자의 key-value를 포함하는 딕셔너리 반환\n",
    "\n",
    "print(word_index)\n",
    "\n",
    "# 단어 빈도수 순으로 배열 \n",
    "# 대문자를 소문자로 변환\n",
    "# 특수기호는 인코딩에 영향을 주지 않음\n"
   ]
  },
  {
   "cell_type": "code",
   "execution_count": 7,
   "id": "e2ac5a84",
   "metadata": {},
   "outputs": [
    {
     "name": "stdout",
     "output_type": "stream",
     "text": [
      "[[3, 1, 2, 4], [3, 1, 2, 5], [6, 1, 2, 4]]\n",
      "[[3, 1, 2, 4], [3, 1, 2, 5], [6, 1, 2, 4], [2]]\n",
      "[[3, 1, 2, 4], [3, 1, 2, 5], [6, 1, 2, 4]]\n"
     ]
    }
   ],
   "source": [
    "sequences = tokenizer.texts_to_sequences(setences)  #시퀀스 형태로 반환\n",
    "print(sequences)\n",
    "\n",
    "setences2 = ['I love my dog.','I love my cat','You love my dog!','My name is Sindi']\n",
    "sequences2 = tokenizer.texts_to_sequences(setences2)\n",
    "print(sequences2)\n",
    "\n",
    "\n",
    "setences3 = ['I love my dog.','I really love my cat','You love my dog!']\n",
    "sequences3 = tokenizer.texts_to_sequences(setences3)\n",
    "print(sequences3)\n",
    "\n",
    "\n",
    "# 사전에 토큰화 되지 않은 문자의 경우, 시퀀스 변환이 되지 않고 생략된다."
   ]
  },
  {
   "cell_type": "code",
   "execution_count": 18,
   "id": "d2afe51e",
   "metadata": {
    "scrolled": true
   },
   "outputs": [
    {
     "name": "stdout",
     "output_type": "stream",
     "text": [
      "['I love my dog.', 'I really love my cat', 'You love my dog!']\n",
      "{'<OVV>': 1, 'love': 2, 'my': 3, 'i': 4, 'dog': 5, 'cat': 6, 'you': 7}\n",
      "[[4, 2, 3, 5], [4, 1, 2, 3, 6], [7, 2, 3, 5]]\n"
     ]
    }
   ],
   "source": [
    "tokenizer = Tokenizer(num_words = 100, oov_token = \"<OOV>\")    #oov_token 특수한 값(ovv) 처리\n",
    "tokenizer.fit_on_texts(setences)\n",
    "print(setences3)\n",
    "word_index = tokenizer.word_index\n",
    "print(word_index)\n",
    "\n",
    "sequences = tokenizer.texts_to_sequences(setences3)\n",
    "print(sequences)\n",
    "\n",
    "\n"
   ]
  },
  {
   "cell_type": "code",
   "execution_count": 36,
   "id": "5b63732c",
   "metadata": {},
   "outputs": [
    {
     "name": "stdout",
     "output_type": "stream",
     "text": [
      "{'<OOV>': 1, 'my': 2, 'love': 3, 'dog': 4, 'i': 5, 'you': 6, 'cat': 7, 'do': 8, 'think': 9, 'is': 10, 'amazing': 11}\n",
      "[[5, 3, 2, 4], [5, 3, 2, 7], [6, 3, 2, 4], [8, 6, 9, 2, 4, 10, 11]]\n",
      "---------패딩 설정---------\n",
      "[[ 0  0  0  5  3  2  4]\n",
      " [ 0  0  0  5  3  2  7]\n",
      " [ 0  0  0  6  3  2  4]\n",
      " [ 8  6  9  2  4 10 11]]\n",
      "-----최대 길이 설정하기-----\n",
      "[[ 0  5  3  2  4]\n",
      " [ 0  5  3  2  7]\n",
      " [ 0  6  3  2  4]\n",
      " [ 9  2  4 10 11]]\n"
     ]
    }
   ],
   "source": [
    "from tensorflow.keras.preprocessing.sequence import pad_sequences\n",
    "\n",
    "\n",
    "setences_pd = [\n",
    "  'I love my dog',\n",
    "  'I love my cat',\n",
    "  'You love my dog!',\n",
    "  'Do you think my dog is amazing?'\n",
    "]\n",
    "\n",
    "\n",
    "tokenizer_pd = Tokenizer(num_words = 100, oov_token = \"<OOV>\")\n",
    "tokenizer_pd.fit_on_texts(setences_pd)\n",
    "word_index_pd = tokenizer_pd.word_index\n",
    "\n",
    "print(word_index_pd)\n",
    "\n",
    "sequences_pd = tokenizer_pd.texts_to_sequences(setences_pd)\n",
    "padded = pad_sequences(sequences_pd)   #패딩 설정하기\n",
    "#문장의 길이 맞춰주기 - 앞부터 0으로 시퀀스를 채워줌\n",
    "print(sequences_pd)\n",
    "print(\"---------패딩 설정---------\")\n",
    "print(padded)\n",
    "\n",
    "max_len = 5\n",
    "padded_len = pad_sequences(sequences_pd,maxlen = max_len)\n",
    "print(\"-----최대 길이 설정하기-----\")\n",
    "print(padded_len)"
   ]
  }
 ],
 "metadata": {
  "kernelspec": {
   "display_name": "Python 3",
   "language": "python",
   "name": "python3"
  },
  "language_info": {
   "codemirror_mode": {
    "name": "ipython",
    "version": 3
   },
   "file_extension": ".py",
   "mimetype": "text/x-python",
   "name": "python",
   "nbconvert_exporter": "python",
   "pygments_lexer": "ipython3",
   "version": "3.8.8"
  }
 },
 "nbformat": 4,
 "nbformat_minor": 5
}
