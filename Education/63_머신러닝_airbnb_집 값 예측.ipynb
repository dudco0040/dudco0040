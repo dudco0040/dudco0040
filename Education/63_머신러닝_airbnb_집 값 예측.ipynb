{
 "cells": [
  {
   "cell_type": "markdown",
   "metadata": {},
   "source": [
    "에어비앤비의 특성에 따른 집 가격이 연관성이 있는지 알아본다.\n",
    "\n",
    "집 값의 경우, 붓꽃의 종류와 같은 범주형 데이터가 아닌 연속형 데이터이다.\n",
    "전의 실습과는 다른 방식의 학습이 필요하다.\n",
    "\n",
    "범주형 데이터의 경우 - 분류(Classification)\n",
    "연속형 데이터의 경우 - 회귀(Regression)\n"
   ]
  },
  {
   "cell_type": "code",
   "execution_count": 3,
   "metadata": {},
   "outputs": [
    {
     "data": {
      "text/html": [
       "<div>\n",
       "<style scoped>\n",
       "    .dataframe tbody tr th:only-of-type {\n",
       "        vertical-align: middle;\n",
       "    }\n",
       "\n",
       "    .dataframe tbody tr th {\n",
       "        vertical-align: top;\n",
       "    }\n",
       "\n",
       "    .dataframe thead th {\n",
       "        text-align: right;\n",
       "    }\n",
       "</style>\n",
       "<table border=\"1\" class=\"dataframe\">\n",
       "  <thead>\n",
       "    <tr style=\"text-align: right;\">\n",
       "      <th></th>\n",
       "      <th>crim</th>\n",
       "      <th>dust</th>\n",
       "      <th>reservation</th>\n",
       "      <th>distance</th>\n",
       "      <th>like</th>\n",
       "      <th>review</th>\n",
       "      <th>price</th>\n",
       "    </tr>\n",
       "  </thead>\n",
       "  <tbody>\n",
       "    <tr>\n",
       "      <th>0</th>\n",
       "      <td>0.00632</td>\n",
       "      <td>0.538</td>\n",
       "      <td>6.575</td>\n",
       "      <td>4.0900</td>\n",
       "      <td>396.90</td>\n",
       "      <td>30.02</td>\n",
       "      <td>43200</td>\n",
       "    </tr>\n",
       "    <tr>\n",
       "      <th>1</th>\n",
       "      <td>0.02731</td>\n",
       "      <td>0.469</td>\n",
       "      <td>6.421</td>\n",
       "      <td>4.9671</td>\n",
       "      <td>396.90</td>\n",
       "      <td>25.86</td>\n",
       "      <td>38880</td>\n",
       "    </tr>\n",
       "    <tr>\n",
       "      <th>2</th>\n",
       "      <td>0.02729</td>\n",
       "      <td>0.469</td>\n",
       "      <td>7.185</td>\n",
       "      <td>4.9671</td>\n",
       "      <td>392.83</td>\n",
       "      <td>30.97</td>\n",
       "      <td>62460</td>\n",
       "    </tr>\n",
       "    <tr>\n",
       "      <th>3</th>\n",
       "      <td>0.03237</td>\n",
       "      <td>0.458</td>\n",
       "      <td>6.998</td>\n",
       "      <td>6.0622</td>\n",
       "      <td>394.63</td>\n",
       "      <td>32.06</td>\n",
       "      <td>60120</td>\n",
       "    </tr>\n",
       "    <tr>\n",
       "      <th>4</th>\n",
       "      <td>0.06905</td>\n",
       "      <td>0.458</td>\n",
       "      <td>7.147</td>\n",
       "      <td>6.0622</td>\n",
       "      <td>396.90</td>\n",
       "      <td>29.67</td>\n",
       "      <td>65160</td>\n",
       "    </tr>\n",
       "    <tr>\n",
       "      <th>...</th>\n",
       "      <td>...</td>\n",
       "      <td>...</td>\n",
       "      <td>...</td>\n",
       "      <td>...</td>\n",
       "      <td>...</td>\n",
       "      <td>...</td>\n",
       "      <td>...</td>\n",
       "    </tr>\n",
       "    <tr>\n",
       "      <th>501</th>\n",
       "      <td>0.06263</td>\n",
       "      <td>0.573</td>\n",
       "      <td>6.593</td>\n",
       "      <td>2.4786</td>\n",
       "      <td>391.99</td>\n",
       "      <td>25.33</td>\n",
       "      <td>40320</td>\n",
       "    </tr>\n",
       "    <tr>\n",
       "      <th>502</th>\n",
       "      <td>0.04527</td>\n",
       "      <td>0.573</td>\n",
       "      <td>6.120</td>\n",
       "      <td>2.2875</td>\n",
       "      <td>396.90</td>\n",
       "      <td>25.92</td>\n",
       "      <td>37080</td>\n",
       "    </tr>\n",
       "    <tr>\n",
       "      <th>503</th>\n",
       "      <td>0.06076</td>\n",
       "      <td>0.573</td>\n",
       "      <td>6.976</td>\n",
       "      <td>2.1675</td>\n",
       "      <td>396.90</td>\n",
       "      <td>29.36</td>\n",
       "      <td>43020</td>\n",
       "    </tr>\n",
       "    <tr>\n",
       "      <th>504</th>\n",
       "      <td>0.10959</td>\n",
       "      <td>0.573</td>\n",
       "      <td>6.794</td>\n",
       "      <td>2.3889</td>\n",
       "      <td>393.45</td>\n",
       "      <td>28.52</td>\n",
       "      <td>39600</td>\n",
       "    </tr>\n",
       "    <tr>\n",
       "      <th>505</th>\n",
       "      <td>0.04741</td>\n",
       "      <td>0.573</td>\n",
       "      <td>6.030</td>\n",
       "      <td>2.5050</td>\n",
       "      <td>396.90</td>\n",
       "      <td>27.12</td>\n",
       "      <td>21420</td>\n",
       "    </tr>\n",
       "  </tbody>\n",
       "</table>\n",
       "<p>506 rows × 7 columns</p>\n",
       "</div>"
      ],
      "text/plain": [
       "        crim   dust  reservation  distance    like  review  price\n",
       "0    0.00632  0.538        6.575    4.0900  396.90   30.02  43200\n",
       "1    0.02731  0.469        6.421    4.9671  396.90   25.86  38880\n",
       "2    0.02729  0.469        7.185    4.9671  392.83   30.97  62460\n",
       "3    0.03237  0.458        6.998    6.0622  394.63   32.06  60120\n",
       "4    0.06905  0.458        7.147    6.0622  396.90   29.67  65160\n",
       "..       ...    ...          ...       ...     ...     ...    ...\n",
       "501  0.06263  0.573        6.593    2.4786  391.99   25.33  40320\n",
       "502  0.04527  0.573        6.120    2.2875  396.90   25.92  37080\n",
       "503  0.06076  0.573        6.976    2.1675  396.90   29.36  43020\n",
       "504  0.10959  0.573        6.794    2.3889  393.45   28.52  39600\n",
       "505  0.04741  0.573        6.030    2.5050  396.90   27.12  21420\n",
       "\n",
       "[506 rows x 7 columns]"
      ]
     },
     "execution_count": 3,
     "metadata": {},
     "output_type": "execute_result"
    }
   ],
   "source": [
    "import pandas as pd\n",
    "from sklearn.linear_model import LinearRegression\n",
    "from sklearn.model_selection import train_test_split\n",
    "\n",
    "csv = pd.read_csv(\"./Airbnb.csv\")\n",
    "csv"
   ]
  },
  {
   "cell_type": "code",
   "execution_count": 5,
   "metadata": {},
   "outputs": [],
   "source": [
    "label = csv['price']\n",
    "data = csv[['crim','dust','reservation','distance','like','review']]"
   ]
  },
  {
   "cell_type": "code",
   "execution_count": 8,
   "metadata": {},
   "outputs": [],
   "source": [
    "# 학습 데이터와 검증 데이터 나누기\n",
    "train_data, valid_data, train_label, valid_label = train_test_split(data,label)"
   ]
  },
  {
   "cell_type": "code",
   "execution_count": 9,
   "metadata": {},
   "outputs": [
    {
     "data": {
      "text/plain": [
       "LinearRegression(copy_X=True, fit_intercept=True, n_jobs=None, normalize=False)"
      ]
     },
     "execution_count": 9,
     "metadata": {},
     "output_type": "execute_result"
    }
   ],
   "source": [
    "model = LinearRegression() #회귀 모델의 가장 기본 모델\n",
    "model.fit(train_data,train_label)"
   ]
  },
  {
   "cell_type": "code",
   "execution_count": 10,
   "metadata": {},
   "outputs": [
    {
     "name": "stdout",
     "output_type": "stream",
     "text": [
      "[46534.1177621  75401.82015296 44835.71195654 49687.60205613\n",
      " 33766.00454651 61476.23558509 44631.59021822 32463.09127866\n",
      " 46688.84995225 42143.70495167 37380.67060942 46145.07609509\n",
      " 48342.03410932 48699.67699177 40280.56498856 48271.16529637\n",
      " 51654.48446904 41696.34234734 73844.16064145 40768.57109568\n",
      " 45861.95165537 35023.30985039 43312.61711701 47930.54746022\n",
      " 34326.73159008 32896.4938124  72251.30897269 61660.14224822\n",
      " 37182.41317439 47196.98770631 47426.69610804 77103.36333517\n",
      " 26941.38647221 34625.32776231 24102.92606424 52811.1377267\n",
      " 39599.78473397 29228.01507751 46566.531822   21408.0510627\n",
      "  5762.19807228 33519.39105032 49381.44437782 59377.00500416\n",
      " 31029.15536465 29153.87703505 29984.55751909 38538.53135257\n",
      " 37738.26133267 48809.6262913  54596.54583418 35743.27256208\n",
      " 31603.6039372  47814.50551186 48433.32261384 27994.60098921\n",
      " 22087.66603938 35334.66115427 54151.07801077 38702.5522951\n",
      " 45609.53356337 34766.45189583 57455.98105182 42599.31975237\n",
      " 45409.898445   74946.22369186 28436.88197627 38679.14477542\n",
      " -3775.45391393 33507.62725334 71963.09435186 29121.20794371\n",
      " 34420.03411004 25412.74535919 17118.32537391 38921.26577069\n",
      " 51405.2150199  37858.98798775 45696.28377403 54066.56556971\n",
      " 43776.52227155 41089.81363786 53985.07565377 64689.71443871\n",
      " 42174.27182797 40030.79799882 34322.85320205 32450.98106558\n",
      " 29149.7641345  18318.87075279 48781.36633118 39244.70910954\n",
      " 59026.40395126 31946.63138135 56385.43595962 43166.37848807\n",
      " 27825.24649951 54613.82851754  8261.34022319 34028.37792728\n",
      " -6080.46894701 35388.20093007 58779.89797041 35991.8381369\n",
      " 38842.53831505 49282.15472573 43801.09995021 57387.76831608\n",
      "  6814.34464892 33627.66273556 36096.47245108 53101.89621947\n",
      " 47916.11008841 44910.68831981  5978.8387712  33142.76352024\n",
      " 47747.30168432  6127.23080618  8681.59480078 42438.67100584\n",
      " 53481.08518008 37817.76371762 36264.94040007 31062.27970171\n",
      " 54470.57036756 33685.30189678 46040.08994427]\n"
     ]
    }
   ],
   "source": [
    "reslut = model.predict(valid_data)\n",
    "print(reslut)  # 검증 데이터(집의 특징-feature)를 통해 예측된 집 값"
   ]
  },
  {
   "cell_type": "markdown",
   "metadata": {},
   "source": [
    "회귀 모델의 경우, 예측값이 정답인지 아닌지로 판단할 수 없으므로 예측된 값이 정답과 얼마나 가까운지를 평가한다."
   ]
  },
  {
   "cell_type": "code",
   "execution_count": 16,
   "metadata": {},
   "outputs": [
    {
     "name": "stdout",
     "output_type": "stream",
     "text": [
      "10996.743432192794\n"
     ]
    }
   ],
   "source": [
    "from sklearn.metrics import mean_squared_error # 정확도를 평가하기 위한 모듈 (회귀 모델\n",
    "\n",
    "score = mean_squared_error(reslut, valid_label)  #예측값과 정답을 넣어줌\n",
    "print(score**(1/2)) #루트를 씌어줘야 정확한 값이 나옴\n",
    "# 결과 값이 실제 집 값과 예측값의 차이(~원)를 나타냄"
   ]
  },
  {
   "cell_type": "code",
   "execution_count": 17,
   "metadata": {},
   "outputs": [
    {
     "name": "stdout",
     "output_type": "stream",
     "text": [
      "[-555147.33746305]\n"
     ]
    }
   ],
   "source": [
    "answer = model.predict([\n",
    "    [0.00321, 0.321, 4.3, 430, 143, 21]\n",
    "])\n",
    "print(answer)"
   ]
  },
  {
   "cell_type": "code",
   "execution_count": null,
   "metadata": {},
   "outputs": [],
   "source": []
  },
  {
   "cell_type": "code",
   "execution_count": null,
   "metadata": {},
   "outputs": [],
   "source": []
  }
 ],
 "metadata": {
  "kernelspec": {
   "display_name": "Python 3",
   "language": "python",
   "name": "python3"
  },
  "language_info": {
   "codemirror_mode": {
    "name": "ipython",
    "version": 3
   },
   "file_extension": ".py",
   "mimetype": "text/x-python",
   "name": "python",
   "nbconvert_exporter": "python",
   "pygments_lexer": "ipython3",
   "version": "3.7.6"
  }
 },
 "nbformat": 4,
 "nbformat_minor": 4
}
