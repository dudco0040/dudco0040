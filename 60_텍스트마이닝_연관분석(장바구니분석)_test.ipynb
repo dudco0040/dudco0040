{
 "cells": [
  {
   "cell_type": "code",
   "execution_count": 1,
   "id": "afab542a",
   "metadata": {},
   "outputs": [
    {
     "name": "stdout",
     "output_type": "stream",
     "text": [
      "Collecting mlxtend\n",
      "  Downloading mlxtend-0.18.0-py2.py3-none-any.whl (1.3 MB)\n",
      "Requirement already satisfied: setuptools in c:\\users\\dudco\\anaconda3\\lib\\site-packages (from mlxtend) (52.0.0.post20210125)\n",
      "Requirement already satisfied: pandas>=0.24.2 in c:\\users\\dudco\\anaconda3\\lib\\site-packages (from mlxtend) (1.2.4)\n",
      "Requirement already satisfied: scipy>=1.2.1 in c:\\users\\dudco\\anaconda3\\lib\\site-packages (from mlxtend) (1.6.2)\n",
      "Requirement already satisfied: matplotlib>=3.0.0 in c:\\users\\dudco\\anaconda3\\lib\\site-packages (from mlxtend) (3.3.4)\n",
      "Requirement already satisfied: joblib>=0.13.2 in c:\\users\\dudco\\anaconda3\\lib\\site-packages (from mlxtend) (1.0.1)\n",
      "Requirement already satisfied: scikit-learn>=0.20.3 in c:\\users\\dudco\\anaconda3\\lib\\site-packages (from mlxtend) (0.24.1)\n",
      "Requirement already satisfied: numpy>=1.16.2 in c:\\users\\dudco\\anaconda3\\lib\\site-packages (from mlxtend) (1.19.5)\n",
      "Requirement already satisfied: python-dateutil>=2.1 in c:\\users\\dudco\\anaconda3\\lib\\site-packages (from matplotlib>=3.0.0->mlxtend) (2.8.1)\n",
      "Requirement already satisfied: pillow>=6.2.0 in c:\\users\\dudco\\anaconda3\\lib\\site-packages (from matplotlib>=3.0.0->mlxtend) (8.2.0)\n",
      "Requirement already satisfied: kiwisolver>=1.0.1 in c:\\users\\dudco\\anaconda3\\lib\\site-packages (from matplotlib>=3.0.0->mlxtend) (1.3.1)\n",
      "Requirement already satisfied: cycler>=0.10 in c:\\users\\dudco\\anaconda3\\lib\\site-packages (from matplotlib>=3.0.0->mlxtend) (0.10.0)\n",
      "Requirement already satisfied: pyparsing!=2.0.4,!=2.1.2,!=2.1.6,>=2.0.3 in c:\\users\\dudco\\anaconda3\\lib\\site-packages (from matplotlib>=3.0.0->mlxtend) (2.4.7)\n",
      "Requirement already satisfied: six in c:\\users\\dudco\\anaconda3\\lib\\site-packages (from cycler>=0.10->matplotlib>=3.0.0->mlxtend) (1.15.0)\n",
      "Requirement already satisfied: pytz>=2017.3 in c:\\users\\dudco\\anaconda3\\lib\\site-packages (from pandas>=0.24.2->mlxtend) (2021.1)\n",
      "Requirement already satisfied: threadpoolctl>=2.0.0 in c:\\users\\dudco\\anaconda3\\lib\\site-packages (from scikit-learn>=0.20.3->mlxtend) (2.1.0)\n",
      "Installing collected packages: mlxtend\n",
      "Successfully installed mlxtend-0.18.0\n",
      "Note: you may need to restart the kernel to use updated packages.\n"
     ]
    }
   ],
   "source": [
    "pip install mlxtend"
   ]
  },
  {
   "cell_type": "code",
   "execution_count": 3,
   "id": "db7a28b0",
   "metadata": {},
   "outputs": [],
   "source": [
    "import pandas as pd\n",
    "from mlxtend.preprocessing import TransactionEncoder\n",
    "from mlxtend.frequent_patterns import apriori"
   ]
  },
  {
   "cell_type": "code",
   "execution_count": 5,
   "id": "d50f7341",
   "metadata": {},
   "outputs": [
    {
     "data": {
      "text/plain": [
       "[['사과', '치즈', '생수'],\n",
       " ['생수', '호두', '치즈', '고등어'],\n",
       " ['수박', '사과', '생수'],\n",
       " ['생수', '호두', '치즈', '옥수수']]"
      ]
     },
     "execution_count": 5,
     "metadata": {},
     "output_type": "execute_result"
    }
   ],
   "source": [
    "dataset = [['사과','치즈','생수'],\n",
    "          ['생수','호두','치즈','고등어'],\n",
    "          ['수박','사과','생수'],\n",
    "          ['생수','호두','치즈','옥수수']]\n",
    "dataset"
   ]
  },
  {
   "cell_type": "code",
   "execution_count": 6,
   "id": "759f7486",
   "metadata": {},
   "outputs": [
    {
     "name": "stdout",
     "output_type": "stream",
     "text": [
      "[[False  True  True False False  True False]\n",
      " [ True False  True False False  True  True]\n",
      " [False  True  True  True False False False]\n",
      " [False False  True False  True  True  True]]\n"
     ]
    }
   ],
   "source": [
    "te = TransactionEncoder()\n",
    "te_ary = te.fit(dataset).transform(dataset) #연관분석에 적합하도록 전처리해주는 함수 mlxtend\n",
    "print(te_ary)"
   ]
  },
  {
   "cell_type": "code",
   "execution_count": 9,
   "id": "77a1a9ae",
   "metadata": {},
   "outputs": [],
   "source": [
    "df = pd.DataFrame(te_ary,columns = te.columns_)  # 컬럼명에 전처리된 데이터셋의 컬럼을 넣어줌"
   ]
  },
  {
   "cell_type": "code",
   "execution_count": 12,
   "id": "a71e2239",
   "metadata": {},
   "outputs": [
    {
     "name": "stdout",
     "output_type": "stream",
     "text": [
      "   support      itemsets\n",
      "0     0.50          (사과)\n",
      "1     1.00          (생수)\n",
      "2     0.75          (치즈)\n",
      "3     0.50          (호두)\n",
      "4     0.50      (생수, 사과)\n",
      "5     0.75      (치즈, 생수)\n",
      "6     0.50      (호두, 생수)\n",
      "7     0.50      (호두, 치즈)\n",
      "8     0.50  (호두, 치즈, 생수)\n"
     ]
    }
   ],
   "source": [
    "#연관분석 알고리즘 apriori\n",
    "\n",
    "df_apr = apriori(df,use_colnames = True)\n",
    "print(df_apr)\n",
    "\n",
    "#support: itemsets을 선택할 확률\n",
    "#itemsets: 장바구니에 들어간 물건"
   ]
  },
  {
   "cell_type": "code",
   "execution_count": null,
   "id": "5bfa9776",
   "metadata": {},
   "outputs": [],
   "source": []
  },
  {
   "cell_type": "code",
   "execution_count": null,
   "id": "4ca98698",
   "metadata": {},
   "outputs": [],
   "source": []
  },
  {
   "cell_type": "code",
   "execution_count": null,
   "id": "1118503d",
   "metadata": {},
   "outputs": [],
   "source": []
  },
  {
   "cell_type": "code",
   "execution_count": null,
   "id": "6abee602",
   "metadata": {},
   "outputs": [],
   "source": []
  }
 ],
 "metadata": {
  "kernelspec": {
   "display_name": "Python 3",
   "language": "python",
   "name": "python3"
  },
  "language_info": {
   "codemirror_mode": {
    "name": "ipython",
    "version": 3
   },
   "file_extension": ".py",
   "mimetype": "text/x-python",
   "name": "python",
   "nbconvert_exporter": "python",
   "pygments_lexer": "ipython3",
   "version": "3.8.8"
  }
 },
 "nbformat": 4,
 "nbformat_minor": 5
}
