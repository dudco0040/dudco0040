{
 "cells": [
  {
   "cell_type": "markdown",
   "id": "bd1dc192",
   "metadata": {},
   "source": [
    " ### Text Classification"
   ]
  },
  {
   "cell_type": "code",
   "execution_count": 1,
   "id": "e352423d",
   "metadata": {},
   "outputs": [
    {
     "name": "stderr",
     "output_type": "stream",
     "text": [
      "2023-01-30 16:07:15.011684: I tensorflow/core/platform/cpu_feature_guard.cc:193] This TensorFlow binary is optimized with oneAPI Deep Neural Network Library (oneDNN) to use the following CPU instructions in performance-critical operations:  AVX2 AVX512F FMA\n",
      "To enable them in other operations, rebuild TensorFlow with the appropriate compiler flags.\n",
      "2023-01-30 16:07:16.438491: W tensorflow/compiler/xla/stream_executor/platform/default/dso_loader.cc:64] Could not load dynamic library 'libnvinfer.so.7'; dlerror: libnvinfer.so.7: cannot open shared object file: No such file or directory; LD_LIBRARY_PATH: /usr/local/cuda-11.4/lib64:\n",
      "2023-01-30 16:07:16.438674: W tensorflow/compiler/xla/stream_executor/platform/default/dso_loader.cc:64] Could not load dynamic library 'libnvinfer_plugin.so.7'; dlerror: libnvinfer_plugin.so.7: cannot open shared object file: No such file or directory; LD_LIBRARY_PATH: /usr/local/cuda-11.4/lib64:\n",
      "2023-01-30 16:07:16.438689: W tensorflow/compiler/tf2tensorrt/utils/py_utils.cc:38] TF-TRT Warning: Cannot dlopen some TensorRT libraries. If you would like to use Nvidia GPU with TensorRT, please make sure the missing libraries mentioned above are installed properly.\n"
     ]
    }
   ],
   "source": [
    "import os\n",
    "\n",
    "import numpy as np\n",
    "import pandas as pd\n",
    "import tensorflow as tf\n",
    "from sklearn.datasets import load_files\n",
    "\n",
    "\n",
    "import autokeras as ak"
   ]
  },
  {
   "cell_type": "code",
   "execution_count": 2,
   "id": "5269f164",
   "metadata": {},
   "outputs": [],
   "source": [
    "#Prepare Dataset\n",
    "dataset = tf.keras.utils.get_file(\n",
    "    fname = \"aclImdb.tar.gz\",\n",
    "    origin = \"http://ai.stanford.edu/~amaas/data/sentiment/aclImdb_v1.tar.gz\",\n",
    "    extract = True)"
   ]
  },
  {
   "cell_type": "code",
   "execution_count": 3,
   "id": "a61d0ae6",
   "metadata": {},
   "outputs": [],
   "source": [
    "IMDB_DATADIR = os.path.join(os.path.dirname(dataset), \"aclImdb\")"
   ]
  },
  {
   "cell_type": "code",
   "execution_count": 4,
   "id": "5e54fde7",
   "metadata": {},
   "outputs": [
    {
     "name": "stdout",
     "output_type": "stream",
     "text": [
      "/home/dudco0040/.keras/datasets/aclImdb\n"
     ]
    }
   ],
   "source": [
    "print(IMDB_DATADIR)"
   ]
  },
  {
   "cell_type": "code",
   "execution_count": 5,
   "id": "d878946e",
   "metadata": {},
   "outputs": [
    {
     "name": "stdout",
     "output_type": "stream",
     "text": [
      "(25000,)\n",
      "(25000,)\n",
      "[1 0 1 ... 0 0 0]\n",
      "b'Zero Day leads you to think, even re-think why two'\n"
     ]
    }
   ],
   "source": [
    "classes = [\"pos\",\"neg\"]\n",
    "train_data = load_files(os.path.join(IMDB_DATADIR,\"train\"), shuffle = True, categories= classes)\n",
    "test_data = load_files(os.path.join(IMDB_DATADIR,\"test\"), shuffle = False, categories= classes)\n",
    "\n",
    "x_train = np.array(train_data.data)\n",
    "y_train = np.array(train_data.target)\n",
    "x_test = np.array(test_data.data)\n",
    "y_test = np.array(test_data.target)\n",
    "\n",
    "\n",
    "print(x_train.shape)\n",
    "print(y_train.shape)\n",
    "#print(x_train)\n",
    "print(y_train)\n",
    "print(x_train[0][:50])"
   ]
  },
  {
   "cell_type": "code",
   "execution_count": 6,
   "id": "0599b32c",
   "metadata": {
    "scrolled": false
   },
   "outputs": [
    {
     "name": "stdout",
     "output_type": "stream",
     "text": [
      "Trial 1 Complete [00h 01m 54s]\n",
      "val_loss: 0.2820516526699066\n",
      "\n",
      "Best val_loss So Far: 0.2820516526699066\n",
      "Total elapsed time: 00h 01m 54s\n",
      "INFO:tensorflow:Oracle triggered exit\n",
      "Epoch 1/2\n",
      "782/782 [==============================] - 83s 103ms/step - loss: 0.4327 - accuracy: 0.7800\n",
      "Epoch 2/2\n",
      "782/782 [==============================] - 11s 14ms/step - loss: 0.2350 - accuracy: 0.9049\n"
     ]
    },
    {
     "name": "stderr",
     "output_type": "stream",
     "text": [
      "WARNING:absl:Found untraced functions such as _jit_compiled_convolution_op while saving (showing 1 of 1). These functions will not be directly callable after loading.\n"
     ]
    },
    {
     "name": "stdout",
     "output_type": "stream",
     "text": [
      "INFO:tensorflow:Assets written to: ./text_classifier/best_model/assets\n"
     ]
    },
    {
     "name": "stderr",
     "output_type": "stream",
     "text": [
      "INFO:tensorflow:Assets written to: ./text_classifier/best_model/assets\n"
     ]
    },
    {
     "data": {
      "text/plain": [
       "<keras.callbacks.History at 0x7f8e805b0ee0>"
      ]
     },
     "execution_count": 6,
     "metadata": {},
     "output_type": "execute_result"
    }
   ],
   "source": [
    "# Text Classification\n",
    "clf = ak.TextClassifier(overwrite = True, max_trials = 1)\n",
    "clf.fit(x_train, y_train, epochs = 2)"
   ]
  },
  {
   "cell_type": "code",
   "execution_count": 7,
   "id": "b0573ac3",
   "metadata": {},
   "outputs": [
    {
     "name": "stdout",
     "output_type": "stream",
     "text": [
      "782/782 [==============================] - 7s 9ms/step\n",
      "782/782 [==============================] - 6s 8ms/step\n",
      "782/782 [==============================] - 8s 10ms/step - loss: 0.2705 - accuracy: 0.8916\n",
      "[0.27049750089645386, 0.8915600180625916]\n"
     ]
    }
   ],
   "source": [
    "predicted_y = clf.predict(x_test)\n",
    "print(clf.evaluate(x_test,y_test))"
   ]
  },
  {
   "cell_type": "code",
   "execution_count": 8,
   "id": "49718238",
   "metadata": {},
   "outputs": [],
   "source": [
    "# Validation Data Split\n",
    "clf.fit(x_train,y_train,\n",
    "       vlidation_split = 0.15)  # option: vlidation_split"
   ]
  },
  {
   "cell_type": "code",
   "execution_count": 9,
   "id": "f7949ede",
   "metadata": {},
   "outputs": [],
   "source": [
    "split = 5000\n",
    "x_val = x_train[split:]\n",
    "y_val = y_train[split:]\n",
    "x_train = x_train[split:]\n",
    "y_train = y_train[split:]\n",
    "clf.fit(x_train, y_train, epoch = 2, validation_data = (x_val, y_val))"
   ]
  },
  {
   "cell_type": "code",
   "execution_count": 10,
   "id": "c88c1dd2",
   "metadata": {},
   "outputs": [
    {
     "name": "stdout",
     "output_type": "stream",
     "text": [
      "Trial 2 Complete [00h 00m 46s]\n",
      "val_loss: 0.322414755821228\n",
      "\n",
      "Best val_loss So Far: 0.322414755821228\n",
      "Total elapsed time: 00h 01m 31s\n",
      "INFO:tensorflow:Oracle triggered exit\n"
     ]
    },
    {
     "name": "stderr",
     "output_type": "stream",
     "text": [
      "INFO:tensorflow:Oracle triggered exit\n"
     ]
    },
    {
     "name": "stdout",
     "output_type": "stream",
     "text": [
      "Epoch 1/2\n",
      "625/625 [==============================] - 12s 16ms/step - loss: 0.3964 - accuracy: 0.8412\n",
      "Epoch 2/2\n",
      "625/625 [==============================] - 10s 15ms/step - loss: 0.2553 - accuracy: 0.8988\n",
      "INFO:tensorflow:Assets written to: ./auto_model/best_model/assets\n"
     ]
    },
    {
     "name": "stderr",
     "output_type": "stream",
     "text": [
      "INFO:tensorflow:Assets written to: ./auto_model/best_model/assets\n"
     ]
    },
    {
     "data": {
      "text/plain": [
       "<keras.callbacks.History at 0x7f8e803c10a0>"
      ]
     },
     "execution_count": 10,
     "metadata": {},
     "output_type": "execute_result"
    }
   ],
   "source": [
    "input_node = ak.TextInput()  # input node\n",
    "output_node = ak.TextBlock(block_type = \"ngram\")(input_node)\n",
    "output_node = ak.ClassificationHead()(output_node)   # output heads\n",
    "\n",
    "# The user only specifies the input node and output heads.\n",
    "# input node와 output heads를 지정해주면 나머지 부분은 추론을 통해 적용한다. \n",
    "clf = ak.AutoModel(inputs = input_node, outputs = output_node, overwrite = True, max_trials = 2)\n",
    "#overwrite: 같은 이름의프로젝트가 있으면 프로젝트 덮어 씌우기 (defualt = False)\n",
    "#max_trials: 시도할 수 있는 keras 모델의 최대 개수 (defualt = 100)\n",
    "#max_model_size: 모델 매개변수의 최대 스칼라 수. 크기가 지정된 스칼라 수를 넘을 경우, 모델 거부\n",
    "clf.fit(x_train, y_train, epochs = 2)"
   ]
  },
  {
   "cell_type": "code",
   "execution_count": 11,
   "id": "f873005f",
   "metadata": {},
   "outputs": [
    {
     "name": "stdout",
     "output_type": "stream",
     "text": [
      "Trial 2 Complete [00h 01m 51s]\n",
      "val_loss: 0.36551520228385925\n",
      "\n",
      "Best val_loss So Far: 0.2861657738685608\n",
      "Total elapsed time: 00h 03m 06s\n",
      "INFO:tensorflow:Oracle triggered exit\n"
     ]
    },
    {
     "name": "stderr",
     "output_type": "stream",
     "text": [
      "INFO:tensorflow:Oracle triggered exit\n"
     ]
    },
    {
     "name": "stdout",
     "output_type": "stream",
     "text": [
      "Epoch 1/2\n",
      "625/625 [==============================] - 65s 101ms/step - loss: 0.4659 - accuracy: 0.7539\n",
      "Epoch 2/2\n",
      "625/625 [==============================] - 9s 14ms/step - loss: 0.2528 - accuracy: 0.8965\n"
     ]
    },
    {
     "name": "stderr",
     "output_type": "stream",
     "text": [
      "WARNING:absl:Found untraced functions such as _jit_compiled_convolution_op while saving (showing 1 of 1). These functions will not be directly callable after loading.\n"
     ]
    },
    {
     "name": "stdout",
     "output_type": "stream",
     "text": [
      "INFO:tensorflow:Assets written to: ./text_classifier/best_model/assets\n"
     ]
    },
    {
     "name": "stderr",
     "output_type": "stream",
     "text": [
      "INFO:tensorflow:Assets written to: ./text_classifier/best_model/assets\n"
     ]
    },
    {
     "name": "stdout",
     "output_type": "stream",
     "text": [
      "782/782 [==============================] - 6s 8ms/step\n",
      "782/782 [==============================] - 6s 8ms/step\n",
      "782/782 [==============================] - 8s 10ms/step - loss: 0.2754 - accuracy: 0.8882\n",
      "[0.2753950357437134, 0.888159990310669]\n"
     ]
    }
   ],
   "source": [
    "train_set = tf.data.Dataset.from_tensor_slices(((x_train,),(y_train,))).batch(32)\n",
    "test_set = tf.data.Dataset.from_tensor_slices(((x_test,),(y_test,))).batch(32)\n",
    "\n",
    "clf = ak.TextClassifier(overwrite = True, max_trials = 2)\n",
    "clf.fit(train_set, epochs = 2)\n",
    "\n",
    "pedicted_y = clf.predict(test_set)\n",
    "print(clf.evaluate(test_set))"
   ]
  },
  {
   "cell_type": "markdown",
   "id": "a0c6895f",
   "metadata": {},
   "source": [
    "### Structured Data Classification"
   ]
  },
  {
   "cell_type": "code",
   "execution_count": 12,
   "id": "d4ba9fb4",
   "metadata": {},
   "outputs": [],
   "source": [
    "# Prepare Data\n",
    "TRAIN_DATA_URL = \"https://storage.googleapis.com/tf-datasets/titanic/train.csv\"\n",
    "TEST_DATA_URL = \"https://storage.googleapis.com/tf-datasets/titanic/eval.csv\"\n",
    "\n",
    "train_file_path = tf.keras.utils.get_file(\"train.csv\", TRAIN_DATA_URL)\n",
    "test_file_path = tf.keras.utils.get_file(\"eval.csv\", TEST_DATA_URL)"
   ]
  },
  {
   "cell_type": "code",
   "execution_count": 13,
   "id": "a9ed0af1",
   "metadata": {
    "scrolled": true
   },
   "outputs": [
    {
     "name": "stdout",
     "output_type": "stream",
     "text": [
      "Trial 5 Complete [00h 00m 08s]\n",
      "val_accuracy: 0.843478262424469\n",
      "\n",
      "Best val_accuracy So Far: 0.8782608509063721\n",
      "Total elapsed time: 00h 00m 37s\n",
      "INFO:tensorflow:Oracle triggered exit\n"
     ]
    },
    {
     "name": "stderr",
     "output_type": "stream",
     "text": [
      "INFO:tensorflow:Oracle triggered exit\n"
     ]
    },
    {
     "name": "stdout",
     "output_type": "stream",
     "text": [
      "Epoch 1/10\n",
      "20/20 [==============================] - 2s 8ms/step - loss: 0.6586 - accuracy: 0.6220\n",
      "Epoch 2/10\n",
      "20/20 [==============================] - 0s 8ms/step - loss: 0.5734 - accuracy: 0.7671\n",
      "Epoch 3/10\n",
      "20/20 [==============================] - 0s 8ms/step - loss: 0.5149 - accuracy: 0.7943\n",
      "Epoch 4/10\n",
      "20/20 [==============================] - 0s 7ms/step - loss: 0.4750 - accuracy: 0.8070\n",
      "Epoch 5/10\n",
      "20/20 [==============================] - 0s 8ms/step - loss: 0.4491 - accuracy: 0.8214\n",
      "Epoch 6/10\n",
      "20/20 [==============================] - 0s 8ms/step - loss: 0.4333 - accuracy: 0.8166\n",
      "Epoch 7/10\n",
      "20/20 [==============================] - 0s 8ms/step - loss: 0.4232 - accuracy: 0.8166\n",
      "Epoch 8/10\n",
      "20/20 [==============================] - 0s 8ms/step - loss: 0.4160 - accuracy: 0.8198\n",
      "Epoch 9/10\n",
      "20/20 [==============================] - 0s 8ms/step - loss: 0.4104 - accuracy: 0.8230\n",
      "Epoch 10/10\n",
      "20/20 [==============================] - 0s 7ms/step - loss: 0.4060 - accuracy: 0.8309\n",
      "INFO:tensorflow:Assets written to: ./structured_data_classifier/best_model/assets\n"
     ]
    },
    {
     "name": "stderr",
     "output_type": "stream",
     "text": [
      "INFO:tensorflow:Assets written to: ./structured_data_classifier/best_model/assets\n"
     ]
    },
    {
     "data": {
      "text/plain": [
       "<keras.callbacks.History at 0x7f8ddc177580>"
      ]
     },
     "execution_count": 13,
     "metadata": {},
     "output_type": "execute_result"
    }
   ],
   "source": [
    "# StructuredDataClassifier 사용\n",
    "clf = ak.StructuredDataClassifier(overwrite = True, max_trials = 5)   #It tries 5 different models.\n",
    "clf.fit(train_file_path, \"survived\", epochs = 10)"
   ]
  },
  {
   "cell_type": "code",
   "execution_count": 14,
   "id": "0f982c6d",
   "metadata": {},
   "outputs": [
    {
     "name": "stdout",
     "output_type": "stream",
     "text": [
      "9/9 [==============================] - 1s 5ms/step\n",
      "9/9 [==============================] - 0s 4ms/step\n",
      "9/9 [==============================] - 0s 6ms/step - loss: 0.4389 - accuracy: 0.7879\n",
      "[0.4389197826385498, 0.7878788113594055]\n"
     ]
    }
   ],
   "source": [
    "# Predicted with the Best model.\n",
    "predicted_y = clf.predict(test_file_path)\n",
    "print(clf.evaluate(test_file_path, \"survived\"))"
   ]
  },
  {
   "cell_type": "code",
   "execution_count": 15,
   "id": "f1f72a5a",
   "metadata": {},
   "outputs": [
    {
     "name": "stdout",
     "output_type": "stream",
     "text": [
      "Trial 3 Complete [00h 00m 07s]\n",
      "val_accuracy: 0.852173924446106\n",
      "\n",
      "Best val_accuracy So Far: 0.852173924446106\n",
      "Total elapsed time: 00h 00m 21s\n",
      "INFO:tensorflow:Oracle triggered exit\n"
     ]
    },
    {
     "name": "stderr",
     "output_type": "stream",
     "text": [
      "INFO:tensorflow:Oracle triggered exit\n"
     ]
    },
    {
     "name": "stdout",
     "output_type": "stream",
     "text": [
      "Epoch 1/10\n",
      "20/20 [==============================] - 2s 10ms/step - loss: 0.6366 - accuracy: 0.6874\n",
      "Epoch 2/10\n",
      "20/20 [==============================] - 0s 8ms/step - loss: 0.5582 - accuracy: 0.7496\n",
      "Epoch 3/10\n",
      "20/20 [==============================] - 0s 8ms/step - loss: 0.5071 - accuracy: 0.7959\n",
      "Epoch 4/10\n",
      "20/20 [==============================] - 0s 7ms/step - loss: 0.4747 - accuracy: 0.8038\n",
      "Epoch 5/10\n",
      "20/20 [==============================] - 0s 8ms/step - loss: 0.4531 - accuracy: 0.8086\n",
      "Epoch 6/10\n",
      "20/20 [==============================] - 0s 7ms/step - loss: 0.4376 - accuracy: 0.8102\n",
      "Epoch 7/10\n",
      "20/20 [==============================] - 0s 8ms/step - loss: 0.4260 - accuracy: 0.8150\n",
      "Epoch 8/10\n",
      "20/20 [==============================] - 0s 8ms/step - loss: 0.4173 - accuracy: 0.8182\n",
      "Epoch 9/10\n",
      "20/20 [==============================] - 0s 8ms/step - loss: 0.4108 - accuracy: 0.8262\n",
      "Epoch 10/10\n",
      "20/20 [==============================] - 0s 8ms/step - loss: 0.4055 - accuracy: 0.8325\n",
      "INFO:tensorflow:Assets written to: ./structured_data_classifier/best_model/assets\n"
     ]
    },
    {
     "name": "stderr",
     "output_type": "stream",
     "text": [
      "INFO:tensorflow:Assets written to: ./structured_data_classifier/best_model/assets\n"
     ]
    },
    {
     "name": "stdout",
     "output_type": "stream",
     "text": [
      "9/9 [==============================] - 0s 5ms/step\n",
      "9/9 [==============================] - 0s 4ms/step\n",
      "9/9 [==============================] - 0s 6ms/step - loss: 0.4426 - accuracy: 0.7803\n",
      "[0.4425978362560272, 0.7803030014038086]\n"
     ]
    }
   ],
   "source": [
    "# The example above shows how to use the CSV files directly. \n",
    "x_train = pd.read_csv(train_file_path)\n",
    "print(type(x_train))\n",
    "y_train = x_train.pop(\"survived\")\n",
    "print(type(y_train))\n",
    "\n",
    "y_train = pd.DataFrame(y_train)\n",
    "print(type(y_train))\n",
    "\n",
    "x_train = x_train.to_numpy()\n",
    "y_train = y_train.to_numpy()\n",
    "print(x_train)\n",
    "print(y_train)\n",
    "\n",
    "x_test = pd.read_csv(test_file_path)\n",
    "y_test = x_test.pop(\"survived\")\n",
    "\n",
    "clf = ak.StructuredDataClassifier(overwrite = True, max_trials = 3)\n",
    "clf.fit(x_train, y_train, epochs = 10)\n",
    "predicted_y = clf.predict(x_test)\n",
    "print(clf.evaluate(x_test, y_test))"
   ]
  },
  {
   "cell_type": "code",
   "execution_count": 16,
   "id": "3245bcfb",
   "metadata": {},
   "outputs": [
    {
     "name": "stdout",
     "output_type": "stream",
     "text": [
      "<TensorSliceDataset element_spec=(TensorSpec(shape=(9,), dtype=tf.string, name=None), TensorSpec(shape=(1,), dtype=tf.int64, name=None))>\n",
      "<TensorSliceDataset element_spec=(TensorSpec(shape=(9,), dtype=tf.string, name=None), TensorSpec(shape=(), dtype=tf.int64, name=None))>\n"
     ]
    }
   ],
   "source": [
    "train_set = tf.data.Dataset.from_tensor_slices((x_train.astype(str), y_train))\n",
    "test_set = tf.data.Dataset.from_tensor_slices((x_test.to_numpy().astype(str), y_test))\n",
    "print(train_set)\n",
    "print(test_set)"
   ]
  },
  {
   "cell_type": "code",
   "execution_count": 17,
   "id": "a05b814b",
   "metadata": {
    "scrolled": true
   },
   "outputs": [
    {
     "name": "stdout",
     "output_type": "stream",
     "text": [
      "Trial 3 Complete [00h 00m 08s]\n",
      "val_accuracy: 0.8695651888847351\n",
      "\n",
      "Best val_accuracy So Far: 0.8782608509063721\n",
      "Total elapsed time: 00h 00m 25s\n",
      "INFO:tensorflow:Oracle triggered exit\n"
     ]
    },
    {
     "name": "stderr",
     "output_type": "stream",
     "text": [
      "INFO:tensorflow:Oracle triggered exit\n"
     ]
    },
    {
     "name": "stdout",
     "output_type": "stream",
     "text": [
      "Epoch 1/10\n",
      "20/20 [==============================] - 2s 10ms/step - loss: 0.6667 - accuracy: 0.6380\n",
      "Epoch 2/10\n",
      "20/20 [==============================] - 0s 8ms/step - loss: 0.6028 - accuracy: 0.6970\n",
      "Epoch 3/10\n",
      "20/20 [==============================] - 0s 8ms/step - loss: 0.5460 - accuracy: 0.7528\n",
      "Epoch 4/10\n",
      "20/20 [==============================] - 0s 8ms/step - loss: 0.5145 - accuracy: 0.7799\n",
      "Epoch 5/10\n",
      "20/20 [==============================] - 0s 8ms/step - loss: 0.4916 - accuracy: 0.7927\n",
      "Epoch 6/10\n",
      "20/20 [==============================] - 0s 9ms/step - loss: 0.4716 - accuracy: 0.8102\n",
      "Epoch 7/10\n",
      "20/20 [==============================] - 0s 9ms/step - loss: 0.4610 - accuracy: 0.8182\n",
      "Epoch 8/10\n",
      "20/20 [==============================] - 0s 9ms/step - loss: 0.4488 - accuracy: 0.8102\n",
      "Epoch 9/10\n",
      "20/20 [==============================] - 0s 8ms/step - loss: 0.4359 - accuracy: 0.8230\n",
      "Epoch 10/10\n",
      "20/20 [==============================] - 0s 7ms/step - loss: 0.4205 - accuracy: 0.8309\n",
      "INFO:tensorflow:Assets written to: ./structured_data_classifier/best_model/assets\n"
     ]
    },
    {
     "name": "stderr",
     "output_type": "stream",
     "text": [
      "INFO:tensorflow:Assets written to: ./structured_data_classifier/best_model/assets\n"
     ]
    },
    {
     "name": "stdout",
     "output_type": "stream",
     "text": [
      "9/9 [==============================] - 0s 5ms/step\n",
      "9/9 [==============================] - 0s 4ms/step\n",
      "9/9 [==============================] - 0s 5ms/step - loss: 0.4435 - accuracy: 0.7917\n",
      "[0.44353485107421875, 0.7916666865348816]\n"
     ]
    }
   ],
   "source": [
    "clf = ak.StructuredDataClassifier(overwrite = True, max_trials = 3)\n",
    "clf.fit(train_set, epochs = 10)\n",
    "predicted_y = clf.predict(test_set)\n",
    "print(clf.evaluate(test_set))"
   ]
  },
  {
   "cell_type": "code",
   "execution_count": 18,
   "id": "9cd2f354",
   "metadata": {
    "scrolled": true
   },
   "outputs": [
    {
     "name": "stdout",
     "output_type": "stream",
     "text": [
      "Trial 10 Complete [00h 00m 09s]\n",
      "val_accuracy: 0.8782608509063721\n",
      "\n",
      "Best val_accuracy So Far: 0.8782608509063721\n",
      "Total elapsed time: 00h 01m 31s\n",
      "INFO:tensorflow:Oracle triggered exit\n"
     ]
    },
    {
     "name": "stderr",
     "output_type": "stream",
     "text": [
      "INFO:tensorflow:Oracle triggered exit\n"
     ]
    },
    {
     "name": "stdout",
     "output_type": "stream",
     "text": [
      "Epoch 1/10\n",
      "20/20 [==============================] - 3s 9ms/step - loss: 0.6901 - accuracy: 0.5774\n",
      "Epoch 2/10\n",
      "20/20 [==============================] - 0s 9ms/step - loss: 0.6088 - accuracy: 0.7751\n",
      "Epoch 3/10\n",
      "20/20 [==============================] - 0s 9ms/step - loss: 0.5317 - accuracy: 0.8230\n",
      "Epoch 4/10\n",
      "20/20 [==============================] - 0s 8ms/step - loss: 0.4684 - accuracy: 0.8198\n",
      "Epoch 5/10\n",
      "20/20 [==============================] - 0s 9ms/step - loss: 0.4376 - accuracy: 0.8166\n",
      "Epoch 6/10\n",
      "20/20 [==============================] - 0s 8ms/step - loss: 0.4230 - accuracy: 0.8325\n",
      "Epoch 7/10\n",
      "20/20 [==============================] - 0s 8ms/step - loss: 0.4137 - accuracy: 0.8357\n",
      "Epoch 8/10\n",
      "20/20 [==============================] - 0s 8ms/step - loss: 0.4067 - accuracy: 0.8357\n",
      "Epoch 9/10\n",
      "20/20 [==============================] - 0s 8ms/step - loss: 0.4012 - accuracy: 0.8373\n",
      "Epoch 10/10\n",
      "20/20 [==============================] - 0s 8ms/step - loss: 0.3969 - accuracy: 0.8405\n",
      "INFO:tensorflow:Assets written to: ./structured_data_classifier/best_model/assets\n"
     ]
    },
    {
     "name": "stderr",
     "output_type": "stream",
     "text": [
      "INFO:tensorflow:Assets written to: ./structured_data_classifier/best_model/assets\n"
     ]
    },
    {
     "name": "stdout",
     "output_type": "stream",
     "text": [
      "9/9 [==============================] - 0s 4ms/step\n",
      "9/9 [==============================] - 0s 5ms/step\n",
      "9/9 [==============================] - 0s 6ms/step - loss: 0.4400 - accuracy: 0.8106\n",
      "[0.43996670842170715, 0.810606062412262]\n"
     ]
    }
   ],
   "source": [
    "clf = ak.StructuredDataClassifier(column_names = [\"sex\",\"age\",\"n_siblings_spoueses\",\"parch\",\n",
    "                                                  \"fare\",\"class\",\"deck\",\"embark_town\",\"alone\"],\n",
    "                                  column_types = {\"sex\": \"categorical\", \"fare\": \"numerical\"},\n",
    "                                  max_trials = 10, \n",
    "                                  overwrite = True)\n",
    "# 컬럼명과 데이터 타입을 지정할 수 있음\n",
    "# type이 지정되지 않은 경우, train dataset에서 추론하여 지정.\n",
    "\n",
    "clf.fit(train_set, epochs = 10)\n",
    "predicted_y = clf.predict(test_set)\n",
    "print(clf.evaluate(test_set))"
   ]
  },
  {
   "cell_type": "code",
   "execution_count": 19,
   "id": "11acaa18",
   "metadata": {
    "scrolled": false
   },
   "outputs": [
    {
     "name": "stdout",
     "output_type": "stream",
     "text": [
      "Trial 3 Complete [00h 00m 07s]\n",
      "val_loss: 0.14227251708507538\n",
      "\n",
      "Best val_loss So Far: 0.14227251708507538\n",
      "Total elapsed time: 00h 00m 22s\n",
      "INFO:tensorflow:Oracle triggered exit\n"
     ]
    },
    {
     "name": "stderr",
     "output_type": "stream",
     "text": [
      "INFO:tensorflow:Oracle triggered exit\n"
     ]
    },
    {
     "name": "stdout",
     "output_type": "stream",
     "text": [
      "Epoch 1/10\n",
      "20/20 [==============================] - 2s 11ms/step - loss: 0.7124 - mean_squared_error: 0.7124\n",
      "Epoch 2/10\n",
      "20/20 [==============================] - 0s 9ms/step - loss: 0.5229 - mean_squared_error: 0.5229\n",
      "Epoch 3/10\n",
      "20/20 [==============================] - 0s 9ms/step - loss: 0.4421 - mean_squared_error: 0.4421\n",
      "Epoch 4/10\n",
      "20/20 [==============================] - 0s 8ms/step - loss: 0.4393 - mean_squared_error: 0.4393\n",
      "Epoch 5/10\n",
      "20/20 [==============================] - 0s 8ms/step - loss: 0.3977 - mean_squared_error: 0.3977\n",
      "Epoch 6/10\n",
      "20/20 [==============================] - 0s 8ms/step - loss: 0.3556 - mean_squared_error: 0.3556\n",
      "Epoch 7/10\n",
      "20/20 [==============================] - 0s 10ms/step - loss: 0.3625 - mean_squared_error: 0.3625\n",
      "Epoch 8/10\n",
      "20/20 [==============================] - 0s 9ms/step - loss: 0.3418 - mean_squared_error: 0.3418\n",
      "Epoch 9/10\n",
      "20/20 [==============================] - 0s 8ms/step - loss: 0.3000 - mean_squared_error: 0.3000\n",
      "Epoch 10/10\n",
      "20/20 [==============================] - 0s 8ms/step - loss: 0.3353 - mean_squared_error: 0.3353\n",
      "INFO:tensorflow:Assets written to: ./auto_model/best_model/assets\n"
     ]
    },
    {
     "name": "stderr",
     "output_type": "stream",
     "text": [
      "INFO:tensorflow:Assets written to: ./auto_model/best_model/assets\n"
     ]
    },
    {
     "data": {
      "text/plain": [
       "<keras.callbacks.History at 0x7f8e48584cd0>"
      ]
     },
     "execution_count": 19,
     "metadata": {},
     "output_type": "execute_result"
    }
   ],
   "source": [
    "# Layer\n",
    "input_node = ak.StructuredDataInput()\n",
    "output_node = ak.StructuredDataBlock(categorical_encoding = True)(input_node)\n",
    "output_node = ak.RegressionHead()(output_node)\n",
    "\n",
    "reg = ak.AutoModel(inputs = input_node, outputs = output_node, overwrite = True, max_trials = 3)\n",
    "reg.fit(x_train, y_train, epochs = 10)"
   ]
  },
  {
   "cell_type": "code",
   "execution_count": 20,
   "id": "a3909c2d",
   "metadata": {},
   "outputs": [
    {
     "name": "stdout",
     "output_type": "stream",
     "text": [
      "Trial 3 Complete [00h 00m 13s]\n",
      "val_loss: 0.18673808872699738\n",
      "\n",
      "Best val_loss So Far: 0.1735192835330963\n",
      "Total elapsed time: 00h 00m 28s\n",
      "INFO:tensorflow:Oracle triggered exit\n"
     ]
    },
    {
     "name": "stderr",
     "output_type": "stream",
     "text": [
      "INFO:tensorflow:Oracle triggered exit\n"
     ]
    },
    {
     "name": "stdout",
     "output_type": "stream",
     "text": [
      "Epoch 1/10\n",
      "20/20 [==============================] - 3s 12ms/step - loss: 0.8318 - mean_squared_error: 0.8318\n",
      "Epoch 2/10\n",
      "20/20 [==============================] - 0s 10ms/step - loss: 0.3042 - mean_squared_error: 0.3042\n",
      "Epoch 3/10\n",
      "20/20 [==============================] - 0s 10ms/step - loss: 0.2473 - mean_squared_error: 0.2473\n",
      "Epoch 4/10\n",
      "20/20 [==============================] - 0s 10ms/step - loss: 0.2197 - mean_squared_error: 0.2197\n",
      "Epoch 5/10\n",
      "20/20 [==============================] - 0s 9ms/step - loss: 0.2053 - mean_squared_error: 0.2053\n",
      "Epoch 6/10\n",
      "20/20 [==============================] - 0s 10ms/step - loss: 0.1939 - mean_squared_error: 0.1939\n",
      "Epoch 7/10\n",
      "20/20 [==============================] - 0s 10ms/step - loss: 0.1854 - mean_squared_error: 0.1854\n",
      "Epoch 8/10\n",
      "20/20 [==============================] - 0s 10ms/step - loss: 0.1786 - mean_squared_error: 0.1786\n",
      "Epoch 9/10\n",
      "20/20 [==============================] - 0s 10ms/step - loss: 0.1731 - mean_squared_error: 0.1731\n",
      "Epoch 10/10\n",
      "20/20 [==============================] - 0s 10ms/step - loss: 0.1673 - mean_squared_error: 0.1673\n",
      "INFO:tensorflow:Assets written to: ./auto_model/best_model/assets\n"
     ]
    },
    {
     "name": "stderr",
     "output_type": "stream",
     "text": [
      "INFO:tensorflow:Assets written to: ./auto_model/best_model/assets\n"
     ]
    },
    {
     "data": {
      "text/plain": [
       "<keras.callbacks.History at 0x7f8ddc1e2cd0>"
      ]
     },
     "execution_count": 20,
     "metadata": {},
     "output_type": "execute_result"
    }
   ],
   "source": [
    "# You can even also use more fine grained blocks to customize the search space even further. \n",
    "input_node = ak.StructuredDataInput()\n",
    "output_node = ak.CategoricalToNumerical()(input_node)\n",
    "output_node = ak.DenseBlock()(output_node)\n",
    "output_node = ak.RegressionHead()(output_node)\n",
    "\n",
    "reg = ak.AutoModel(inputs = input_node, outputs = output_node, max_trials = 3, overwrite = True)\n",
    "reg.fit(x_train, y_train, epochs = 10)"
   ]
  },
  {
   "cell_type": "code",
   "execution_count": 21,
   "id": "3c61b591",
   "metadata": {},
   "outputs": [
    {
     "name": "stdout",
     "output_type": "stream",
     "text": [
      "Model: \"model\"\n",
      "_________________________________________________________________\n",
      " Layer (type)                Output Shape              Param #   \n",
      "=================================================================\n",
      " input_1 (InputLayer)        [(None, 9)]               0         \n",
      "                                                                 \n",
      " multi_category_encoding (Mu  (None, 9)                0         \n",
      " ltiCategoryEncoding)                                            \n",
      "                                                                 \n",
      " dense (Dense)               (None, 32)                320       \n",
      "                                                                 \n",
      " batch_normalization (BatchN  (None, 32)               128       \n",
      " ormalization)                                                   \n",
      "                                                                 \n",
      " re_lu (ReLU)                (None, 32)                0         \n",
      "                                                                 \n",
      " dense_1 (Dense)             (None, 32)                1056      \n",
      "                                                                 \n",
      " batch_normalization_1 (Batc  (None, 32)               128       \n",
      " hNormalization)                                                 \n",
      "                                                                 \n",
      " re_lu_1 (ReLU)              (None, 32)                0         \n",
      "                                                                 \n",
      " regression_head_1 (Dense)   (None, 1)                 33        \n",
      "                                                                 \n",
      "=================================================================\n",
      "Total params: 1,665\n",
      "Trainable params: 1,537\n",
      "Non-trainable params: 128\n",
      "_________________________________________________________________\n"
     ]
    }
   ],
   "source": [
    "model = reg.export_model()  # export best model. \n",
    "model.summary()\n",
    "#model.predict(x_train)"
   ]
  }
 ],
 "metadata": {
  "kernelspec": {
   "display_name": "Python 3 (ipykernel)",
   "language": "python",
   "name": "python3"
  },
  "language_info": {
   "codemirror_mode": {
    "name": "ipython",
    "version": 3
   },
   "file_extension": ".py",
   "mimetype": "text/x-python",
   "name": "python",
   "nbconvert_exporter": "python",
   "pygments_lexer": "ipython3",
   "version": "3.8.10"
  }
 },
 "nbformat": 4,
 "nbformat_minor": 5
}
