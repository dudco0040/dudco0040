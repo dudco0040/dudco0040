{
 "cells": [
  {
   "cell_type": "code",
   "execution_count": 24,
   "id": "a5b23709",
   "metadata": {},
   "outputs": [],
   "source": [
    "import pandas as pd\n",
    "import numpy as np\n",
    "import matplotlib.pyplot as plt\n",
    "import seaborn as sns"
   ]
  },
  {
   "cell_type": "code",
   "execution_count": 3,
   "id": "37224926",
   "metadata": {},
   "outputs": [],
   "source": [
    "dataset = pd.read_csv(\"./smart_sensor_dataset_1/2023-01-16_tag0002.csv\")"
   ]
  },
  {
   "cell_type": "code",
   "execution_count": 19,
   "id": "57f15629",
   "metadata": {},
   "outputs": [
    {
     "data": {
      "text/html": [
       "<div>\n",
       "<style scoped>\n",
       "    .dataframe tbody tr th:only-of-type {\n",
       "        vertical-align: middle;\n",
       "    }\n",
       "\n",
       "    .dataframe tbody tr th {\n",
       "        vertical-align: top;\n",
       "    }\n",
       "\n",
       "    .dataframe thead th {\n",
       "        text-align: right;\n",
       "    }\n",
       "</style>\n",
       "<table border=\"1\" class=\"dataframe\">\n",
       "  <thead>\n",
       "    <tr style=\"text-align: right;\">\n",
       "      <th></th>\n",
       "      <th>tagID</th>\n",
       "      <th>measurement time</th>\n",
       "      <th>xAxis</th>\n",
       "      <th>yAxis</th>\n",
       "      <th>vAxis</th>\n",
       "      <th>Temperature</th>\n",
       "      <th>Humidity</th>\n",
       "      <th>magAxis</th>\n",
       "    </tr>\n",
       "  </thead>\n",
       "  <tbody>\n",
       "    <tr>\n",
       "      <th>0</th>\n",
       "      <td>2</td>\n",
       "      <td>2023-01-16 09:33:49</td>\n",
       "      <td>10.0</td>\n",
       "      <td>-7.0</td>\n",
       "      <td>14.0</td>\n",
       "      <td>20.584</td>\n",
       "      <td>48.888</td>\n",
       "      <td>345.0</td>\n",
       "    </tr>\n",
       "    <tr>\n",
       "      <th>1</th>\n",
       "      <td>2</td>\n",
       "      <td>2023-01-16 09:33:53</td>\n",
       "      <td>11.0</td>\n",
       "      <td>-7.0</td>\n",
       "      <td>14.0</td>\n",
       "      <td>20.912</td>\n",
       "      <td>55.036</td>\n",
       "      <td>366.0</td>\n",
       "    </tr>\n",
       "    <tr>\n",
       "      <th>2</th>\n",
       "      <td>2</td>\n",
       "      <td>2023-01-16 09:33:58</td>\n",
       "      <td>8.0</td>\n",
       "      <td>-4.0</td>\n",
       "      <td>9.0</td>\n",
       "      <td>21.619</td>\n",
       "      <td>54.564</td>\n",
       "      <td>161.0</td>\n",
       "    </tr>\n",
       "    <tr>\n",
       "      <th>3</th>\n",
       "      <td>2</td>\n",
       "      <td>2023-01-16 09:34:02</td>\n",
       "      <td>2.0</td>\n",
       "      <td>2.0</td>\n",
       "      <td>3.0</td>\n",
       "      <td>22.299</td>\n",
       "      <td>54.379</td>\n",
       "      <td>17.0</td>\n",
       "    </tr>\n",
       "    <tr>\n",
       "      <th>4</th>\n",
       "      <td>2</td>\n",
       "      <td>2023-01-16 09:34:07</td>\n",
       "      <td>2.0</td>\n",
       "      <td>3.0</td>\n",
       "      <td>3.0</td>\n",
       "      <td>22.327</td>\n",
       "      <td>53.522</td>\n",
       "      <td>22.0</td>\n",
       "    </tr>\n",
       "    <tr>\n",
       "      <th>...</th>\n",
       "      <td>...</td>\n",
       "      <td>...</td>\n",
       "      <td>...</td>\n",
       "      <td>...</td>\n",
       "      <td>...</td>\n",
       "      <td>...</td>\n",
       "      <td>...</td>\n",
       "      <td>...</td>\n",
       "    </tr>\n",
       "    <tr>\n",
       "      <th>95</th>\n",
       "      <td>2</td>\n",
       "      <td>2023-01-16 09:41:39</td>\n",
       "      <td>0.0</td>\n",
       "      <td>0.0</td>\n",
       "      <td>3.0</td>\n",
       "      <td>22.518</td>\n",
       "      <td>48.091</td>\n",
       "      <td>9.0</td>\n",
       "    </tr>\n",
       "    <tr>\n",
       "      <th>96</th>\n",
       "      <td>2</td>\n",
       "      <td>2023-01-16 09:41:44</td>\n",
       "      <td>0.0</td>\n",
       "      <td>0.0</td>\n",
       "      <td>3.0</td>\n",
       "      <td>22.537</td>\n",
       "      <td>48.132</td>\n",
       "      <td>9.0</td>\n",
       "    </tr>\n",
       "    <tr>\n",
       "      <th>97</th>\n",
       "      <td>2</td>\n",
       "      <td>2023-01-16 09:41:49</td>\n",
       "      <td>0.0</td>\n",
       "      <td>0.0</td>\n",
       "      <td>3.0</td>\n",
       "      <td>22.551</td>\n",
       "      <td>48.157</td>\n",
       "      <td>9.0</td>\n",
       "    </tr>\n",
       "    <tr>\n",
       "      <th>98</th>\n",
       "      <td>2</td>\n",
       "      <td>2023-01-16 09:41:54</td>\n",
       "      <td>0.0</td>\n",
       "      <td>0.0</td>\n",
       "      <td>3.0</td>\n",
       "      <td>22.569</td>\n",
       "      <td>48.174</td>\n",
       "      <td>9.0</td>\n",
       "    </tr>\n",
       "    <tr>\n",
       "      <th>99</th>\n",
       "      <td>2</td>\n",
       "      <td>2023-01-16 09:41:59</td>\n",
       "      <td>0.0</td>\n",
       "      <td>0.0</td>\n",
       "      <td>3.0</td>\n",
       "      <td>22.597</td>\n",
       "      <td>48.183</td>\n",
       "      <td>9.0</td>\n",
       "    </tr>\n",
       "  </tbody>\n",
       "</table>\n",
       "<p>100 rows × 8 columns</p>\n",
       "</div>"
      ],
      "text/plain": [
       "    tagID     measurement time  xAxis  yAxis  vAxis  Temperature  Humidity  \\\n",
       "0       2  2023-01-16 09:33:49   10.0   -7.0   14.0       20.584    48.888   \n",
       "1       2  2023-01-16 09:33:53   11.0   -7.0   14.0       20.912    55.036   \n",
       "2       2  2023-01-16 09:33:58    8.0   -4.0    9.0       21.619    54.564   \n",
       "3       2  2023-01-16 09:34:02    2.0    2.0    3.0       22.299    54.379   \n",
       "4       2  2023-01-16 09:34:07    2.0    3.0    3.0       22.327    53.522   \n",
       "..    ...                  ...    ...    ...    ...          ...       ...   \n",
       "95      2  2023-01-16 09:41:39    0.0    0.0    3.0       22.518    48.091   \n",
       "96      2  2023-01-16 09:41:44    0.0    0.0    3.0       22.537    48.132   \n",
       "97      2  2023-01-16 09:41:49    0.0    0.0    3.0       22.551    48.157   \n",
       "98      2  2023-01-16 09:41:54    0.0    0.0    3.0       22.569    48.174   \n",
       "99      2  2023-01-16 09:41:59    0.0    0.0    3.0       22.597    48.183   \n",
       "\n",
       "    magAxis  \n",
       "0     345.0  \n",
       "1     366.0  \n",
       "2     161.0  \n",
       "3      17.0  \n",
       "4      22.0  \n",
       "..      ...  \n",
       "95      9.0  \n",
       "96      9.0  \n",
       "97      9.0  \n",
       "98      9.0  \n",
       "99      9.0  \n",
       "\n",
       "[100 rows x 8 columns]"
      ]
     },
     "execution_count": 19,
     "metadata": {},
     "output_type": "execute_result"
    }
   ],
   "source": [
    "dataset.head(100)  # 약 5초 간격으로 수집"
   ]
  },
  {
   "cell_type": "code",
   "execution_count": 26,
   "id": "5eb926f9",
   "metadata": {},
   "outputs": [
    {
     "data": {
      "text/plain": [
       "(56718, 8)"
      ]
     },
     "execution_count": 26,
     "metadata": {},
     "output_type": "execute_result"
    }
   ],
   "source": [
    "dataset.shape"
   ]
  },
  {
   "cell_type": "code",
   "execution_count": 23,
   "id": "b12bbb55",
   "metadata": {},
   "outputs": [
    {
     "name": "stdout",
     "output_type": "stream",
     "text": [
      "tagID               0\n",
      "measurement time    0\n",
      "xAxis               0\n",
      "yAxis               0\n",
      "vAxis               0\n",
      "Temperature         0\n",
      "Humidity            0\n",
      "magAxis             0\n",
      "dtype: int64\n",
      "0\n"
     ]
    }
   ],
   "source": [
    "#결측지 확인\n",
    "print(dataset.isnull().sum())\n",
    "\n",
    "#중복 값 확인\n",
    "print(dataset.duplicated(keep = False).sum())"
   ]
  },
  {
   "cell_type": "code",
   "execution_count": 18,
   "id": "4dd3a8a2",
   "metadata": {
    "scrolled": true
   },
   "outputs": [
    {
     "data": {
      "text/html": [
       "<div>\n",
       "<style scoped>\n",
       "    .dataframe tbody tr th:only-of-type {\n",
       "        vertical-align: middle;\n",
       "    }\n",
       "\n",
       "    .dataframe tbody tr th {\n",
       "        vertical-align: top;\n",
       "    }\n",
       "\n",
       "    .dataframe thead th {\n",
       "        text-align: right;\n",
       "    }\n",
       "</style>\n",
       "<table border=\"1\" class=\"dataframe\">\n",
       "  <thead>\n",
       "    <tr style=\"text-align: right;\">\n",
       "      <th></th>\n",
       "      <th>tagID</th>\n",
       "      <th>measurement time</th>\n",
       "      <th>xAxis</th>\n",
       "      <th>yAxis</th>\n",
       "      <th>vAxis</th>\n",
       "      <th>Temperature</th>\n",
       "      <th>Humidity</th>\n",
       "      <th>magAxis</th>\n",
       "    </tr>\n",
       "  </thead>\n",
       "  <tbody>\n",
       "    <tr>\n",
       "      <th>0</th>\n",
       "      <td>2</td>\n",
       "      <td>2023-01-16 09:33:49</td>\n",
       "      <td>10.0</td>\n",
       "      <td>-7.0</td>\n",
       "      <td>14.0</td>\n",
       "      <td>20.584</td>\n",
       "      <td>48.888</td>\n",
       "      <td>345.0</td>\n",
       "    </tr>\n",
       "    <tr>\n",
       "      <th>1</th>\n",
       "      <td>2</td>\n",
       "      <td>2023-01-16 09:33:53</td>\n",
       "      <td>11.0</td>\n",
       "      <td>-7.0</td>\n",
       "      <td>14.0</td>\n",
       "      <td>20.912</td>\n",
       "      <td>55.036</td>\n",
       "      <td>366.0</td>\n",
       "    </tr>\n",
       "    <tr>\n",
       "      <th>2</th>\n",
       "      <td>2</td>\n",
       "      <td>2023-01-16 09:33:58</td>\n",
       "      <td>8.0</td>\n",
       "      <td>-4.0</td>\n",
       "      <td>9.0</td>\n",
       "      <td>21.619</td>\n",
       "      <td>54.564</td>\n",
       "      <td>161.0</td>\n",
       "    </tr>\n",
       "    <tr>\n",
       "      <th>3</th>\n",
       "      <td>2</td>\n",
       "      <td>2023-01-16 09:34:02</td>\n",
       "      <td>2.0</td>\n",
       "      <td>2.0</td>\n",
       "      <td>3.0</td>\n",
       "      <td>22.299</td>\n",
       "      <td>54.379</td>\n",
       "      <td>17.0</td>\n",
       "    </tr>\n",
       "    <tr>\n",
       "      <th>4</th>\n",
       "      <td>2</td>\n",
       "      <td>2023-01-16 09:34:07</td>\n",
       "      <td>2.0</td>\n",
       "      <td>3.0</td>\n",
       "      <td>3.0</td>\n",
       "      <td>22.327</td>\n",
       "      <td>53.522</td>\n",
       "      <td>22.0</td>\n",
       "    </tr>\n",
       "  </tbody>\n",
       "</table>\n",
       "</div>"
      ],
      "text/plain": [
       "   tagID     measurement time  xAxis  yAxis  vAxis  Temperature  Humidity  \\\n",
       "0      2  2023-01-16 09:33:49   10.0   -7.0   14.0       20.584    48.888   \n",
       "1      2  2023-01-16 09:33:53   11.0   -7.0   14.0       20.912    55.036   \n",
       "2      2  2023-01-16 09:33:58    8.0   -4.0    9.0       21.619    54.564   \n",
       "3      2  2023-01-16 09:34:02    2.0    2.0    3.0       22.299    54.379   \n",
       "4      2  2023-01-16 09:34:07    2.0    3.0    3.0       22.327    53.522   \n",
       "\n",
       "   magAxis  \n",
       "0    345.0  \n",
       "1    366.0  \n",
       "2    161.0  \n",
       "3     17.0  \n",
       "4     22.0  "
      ]
     },
     "execution_count": 18,
     "metadata": {},
     "output_type": "execute_result"
    }
   ],
   "source": [
    "#EDA\n",
    "#mag = dataset[\"xAxis\"]**2+ dataset[\"yAxis\"]**2+ dataset[\"vAxis\"]**2\n",
    "#mag.head()\n",
    "#dataset[\"magAxis\"] = mag\n",
    "#dataset.head()"
   ]
  },
  {
   "cell_type": "code",
   "execution_count": 21,
   "id": "04af04b6",
   "metadata": {
    "scrolled": false
   },
   "outputs": [
    {
     "data": {
      "text/html": [
       "<div>\n",
       "<style scoped>\n",
       "    .dataframe tbody tr th:only-of-type {\n",
       "        vertical-align: middle;\n",
       "    }\n",
       "\n",
       "    .dataframe tbody tr th {\n",
       "        vertical-align: top;\n",
       "    }\n",
       "\n",
       "    .dataframe thead th {\n",
       "        text-align: right;\n",
       "    }\n",
       "</style>\n",
       "<table border=\"1\" class=\"dataframe\">\n",
       "  <thead>\n",
       "    <tr style=\"text-align: right;\">\n",
       "      <th></th>\n",
       "      <th>tagID</th>\n",
       "      <th>xAxis</th>\n",
       "      <th>yAxis</th>\n",
       "      <th>vAxis</th>\n",
       "      <th>Temperature</th>\n",
       "      <th>Humidity</th>\n",
       "      <th>magAxis</th>\n",
       "    </tr>\n",
       "  </thead>\n",
       "  <tbody>\n",
       "    <tr>\n",
       "      <th>count</th>\n",
       "      <td>56718.0</td>\n",
       "      <td>56718.000000</td>\n",
       "      <td>56718.000000</td>\n",
       "      <td>56718.000000</td>\n",
       "      <td>56718.000000</td>\n",
       "      <td>56718.000000</td>\n",
       "      <td>56718.000000</td>\n",
       "    </tr>\n",
       "    <tr>\n",
       "      <th>mean</th>\n",
       "      <td>2.0</td>\n",
       "      <td>1.050443</td>\n",
       "      <td>-0.868049</td>\n",
       "      <td>2.437604</td>\n",
       "      <td>33.304955</td>\n",
       "      <td>7.024618</td>\n",
       "      <td>15.055873</td>\n",
       "    </tr>\n",
       "    <tr>\n",
       "      <th>std</th>\n",
       "      <td>0.0</td>\n",
       "      <td>0.687334</td>\n",
       "      <td>0.997877</td>\n",
       "      <td>2.406027</td>\n",
       "      <td>17.675622</td>\n",
       "      <td>10.593326</td>\n",
       "      <td>28.154083</td>\n",
       "    </tr>\n",
       "    <tr>\n",
       "      <th>min</th>\n",
       "      <td>2.0</td>\n",
       "      <td>-11.000000</td>\n",
       "      <td>-34.000000</td>\n",
       "      <td>0.000000</td>\n",
       "      <td>19.396000</td>\n",
       "      <td>0.167000</td>\n",
       "      <td>0.000000</td>\n",
       "    </tr>\n",
       "    <tr>\n",
       "      <th>25%</th>\n",
       "      <td>2.0</td>\n",
       "      <td>1.000000</td>\n",
       "      <td>-1.000000</td>\n",
       "      <td>1.000000</td>\n",
       "      <td>22.406000</td>\n",
       "      <td>0.167000</td>\n",
       "      <td>2.000000</td>\n",
       "    </tr>\n",
       "    <tr>\n",
       "      <th>50%</th>\n",
       "      <td>2.0</td>\n",
       "      <td>1.000000</td>\n",
       "      <td>-1.000000</td>\n",
       "      <td>2.000000</td>\n",
       "      <td>23.064000</td>\n",
       "      <td>0.673000</td>\n",
       "      <td>6.000000</td>\n",
       "    </tr>\n",
       "    <tr>\n",
       "      <th>75%</th>\n",
       "      <td>2.0</td>\n",
       "      <td>1.000000</td>\n",
       "      <td>0.000000</td>\n",
       "      <td>2.000000</td>\n",
       "      <td>59.961000</td>\n",
       "      <td>15.604000</td>\n",
       "      <td>12.000000</td>\n",
       "    </tr>\n",
       "    <tr>\n",
       "      <th>max</th>\n",
       "      <td>2.0</td>\n",
       "      <td>14.000000</td>\n",
       "      <td>4.000000</td>\n",
       "      <td>27.000000</td>\n",
       "      <td>79.036000</td>\n",
       "      <td>55.036000</td>\n",
       "      <td>1428.000000</td>\n",
       "    </tr>\n",
       "  </tbody>\n",
       "</table>\n",
       "</div>"
      ],
      "text/plain": [
       "         tagID         xAxis         yAxis         vAxis   Temperature  \\\n",
       "count  56718.0  56718.000000  56718.000000  56718.000000  56718.000000   \n",
       "mean       2.0      1.050443     -0.868049      2.437604     33.304955   \n",
       "std        0.0      0.687334      0.997877      2.406027     17.675622   \n",
       "min        2.0    -11.000000    -34.000000      0.000000     19.396000   \n",
       "25%        2.0      1.000000     -1.000000      1.000000     22.406000   \n",
       "50%        2.0      1.000000     -1.000000      2.000000     23.064000   \n",
       "75%        2.0      1.000000      0.000000      2.000000     59.961000   \n",
       "max        2.0     14.000000      4.000000     27.000000     79.036000   \n",
       "\n",
       "           Humidity       magAxis  \n",
       "count  56718.000000  56718.000000  \n",
       "mean       7.024618     15.055873  \n",
       "std       10.593326     28.154083  \n",
       "min        0.167000      0.000000  \n",
       "25%        0.167000      2.000000  \n",
       "50%        0.673000      6.000000  \n",
       "75%       15.604000     12.000000  \n",
       "max       55.036000   1428.000000  "
      ]
     },
     "execution_count": 21,
     "metadata": {},
     "output_type": "execute_result"
    }
   ],
   "source": [
    "#summary\n",
    "dataset.describe()\n",
    "\n",
    "#진동은 우선 보류 \n",
    "#온도,습도에 이상치 발견"
   ]
  },
  {
   "cell_type": "code",
   "execution_count": 100,
   "id": "ebd4c676",
   "metadata": {
    "scrolled": false
   },
   "outputs": [
    {
     "data": {
      "text/plain": [
       "<matplotlib.legend.Legend at 0x7f06cdcad7c0>"
      ]
     },
     "execution_count": 100,
     "metadata": {},
     "output_type": "execute_result"
    },
    {
     "data": {
      "image/png": "[encoded data removed]",
      "text/plain": [
       "<Figure size 640x480 with 1 Axes>"
      ]
     },
     "metadata": {},
     "output_type": "display_data"
    }
   ],
   "source": [
    "plt.plot(dataset[\"Temperature\"],label = \"Temp\")\n",
    "plt.plot(dataset[\"Humidity\"],label = \"Humi\")\n",
    "\n",
    "plt.title(\"Line Plot: Temperature & Humidity \")\n",
    "plt.legend()"
   ]
  },
  {
   "cell_type": "code",
   "execution_count": 53,
   "id": "203de8d0",
   "metadata": {},
   "outputs": [
    {
     "name": "stdout",
     "output_type": "stream",
     "text": [
      "range(1, 3)\n"
     ]
    }
   ],
   "source": [
    "no = [2,3,5,6,8]\n",
    "all_dataset = pd.DataFrame()\n",
    "\n",
    "for i in no:\n",
    "    path = \"./smart_sensor_dataset_1/2023-01-16_tag000%d.csv\" %i\n",
    "    dataset = pd.read_csv(path)\n",
    "    all_dataset = pd.concat([all_dataset,dataset])"
   ]
  },
  {
   "cell_type": "code",
   "execution_count": 61,
   "id": "1374e333",
   "metadata": {
    "scrolled": false
   },
   "outputs": [
    {
     "data": {
      "text/html": [
       "<div>\n",
       "<style scoped>\n",
       "    .dataframe tbody tr th:only-of-type {\n",
       "        vertical-align: middle;\n",
       "    }\n",
       "\n",
       "    .dataframe tbody tr th {\n",
       "        vertical-align: top;\n",
       "    }\n",
       "\n",
       "    .dataframe thead th {\n",
       "        text-align: right;\n",
       "    }\n",
       "</style>\n",
       "<table border=\"1\" class=\"dataframe\">\n",
       "  <thead>\n",
       "    <tr style=\"text-align: right;\">\n",
       "      <th></th>\n",
       "      <th>tagID</th>\n",
       "      <th>measurement time</th>\n",
       "      <th>xAxis</th>\n",
       "      <th>yAxis</th>\n",
       "      <th>vAxis</th>\n",
       "      <th>Temperature</th>\n",
       "      <th>Humidity</th>\n",
       "    </tr>\n",
       "  </thead>\n",
       "  <tbody>\n",
       "    <tr>\n",
       "      <th>56713</th>\n",
       "      <td>8</td>\n",
       "      <td>2023-01-20 16:17:55</td>\n",
       "      <td>-2.0</td>\n",
       "      <td>0.0</td>\n",
       "      <td>10.0</td>\n",
       "      <td>23.000</td>\n",
       "      <td>6.491</td>\n",
       "    </tr>\n",
       "    <tr>\n",
       "      <th>56714</th>\n",
       "      <td>8</td>\n",
       "      <td>2023-01-20 16:18:00</td>\n",
       "      <td>-3.0</td>\n",
       "      <td>0.0</td>\n",
       "      <td>8.0</td>\n",
       "      <td>22.987</td>\n",
       "      <td>9.654</td>\n",
       "    </tr>\n",
       "    <tr>\n",
       "      <th>56715</th>\n",
       "      <td>8</td>\n",
       "      <td>2023-01-20 16:18:05</td>\n",
       "      <td>-2.0</td>\n",
       "      <td>1.0</td>\n",
       "      <td>8.0</td>\n",
       "      <td>22.964</td>\n",
       "      <td>11.135</td>\n",
       "    </tr>\n",
       "    <tr>\n",
       "      <th>56716</th>\n",
       "      <td>8</td>\n",
       "      <td>2023-01-20 16:18:10</td>\n",
       "      <td>-0.0</td>\n",
       "      <td>-0.0</td>\n",
       "      <td>8.0</td>\n",
       "      <td>22.951</td>\n",
       "      <td>11.975</td>\n",
       "    </tr>\n",
       "    <tr>\n",
       "      <th>56717</th>\n",
       "      <td>8</td>\n",
       "      <td>2023-01-20 16:18:15</td>\n",
       "      <td>1.0</td>\n",
       "      <td>-0.0</td>\n",
       "      <td>8.0</td>\n",
       "      <td>22.948</td>\n",
       "      <td>12.729</td>\n",
       "    </tr>\n",
       "  </tbody>\n",
       "</table>\n",
       "</div>"
      ],
      "text/plain": [
       "       tagID     measurement time  xAxis  yAxis  vAxis  Temperature  Humidity\n",
       "56713      8  2023-01-20 16:17:55   -2.0    0.0   10.0       23.000     6.491\n",
       "56714      8  2023-01-20 16:18:00   -3.0    0.0    8.0       22.987     9.654\n",
       "56715      8  2023-01-20 16:18:05   -2.0    1.0    8.0       22.964    11.135\n",
       "56716      8  2023-01-20 16:18:10   -0.0   -0.0    8.0       22.951    11.975\n",
       "56717      8  2023-01-20 16:18:15    1.0   -0.0    8.0       22.948    12.729"
      ]
     },
     "execution_count": 61,
     "metadata": {},
     "output_type": "execute_result"
    }
   ],
   "source": [
    "all_dataset.head()\n",
    "all_dataset.tail()\n",
    "#all_dataset.shape"
   ]
  },
  {
   "cell_type": "code",
   "execution_count": 80,
   "id": "8b355665",
   "metadata": {
    "scrolled": false
   },
   "outputs": [
    {
     "data": {
      "text/plain": [
       "[<matplotlib.lines.Line2D at 0x7f06cecb76a0>]"
      ]
     },
     "execution_count": 80,
     "metadata": {},
     "output_type": "execute_result"
    },
    {
     "data": {
      "image/png": "[encoded data removed]",
      "text/plain": [
       "<Figure size 640x480 with 1 Axes>"
      ]
     },
     "metadata": {},
     "output_type": "display_data"
    }
   ],
   "source": [
    "plt.plot(all_dataset.Temperature)"
   ]
  },
  {
   "cell_type": "code",
   "execution_count": 82,
   "id": "1d77214c",
   "metadata": {
    "scrolled": false
   },
   "outputs": [
    {
     "data": {
      "text/plain": [
       "[<matplotlib.lines.Line2D at 0x7f06cebbf550>]"
      ]
     },
     "execution_count": 82,
     "metadata": {},
     "output_type": "execute_result"
    },
    {
     "data": {
      "image/png": "[encoded data removed]",
      "text/plain": [
       "<Figure size 640x480 with 1 Axes>"
      ]
     },
     "metadata": {},
     "output_type": "display_data"
    }
   ],
   "source": [
    "plt.plot(all_dataset.Humidity)"
   ]
  },
  {
   "cell_type": "code",
   "execution_count": 81,
   "id": "36ca62a4",
   "metadata": {},
   "outputs": [
    {
     "data": {
      "text/plain": [
       "[<matplotlib.lines.Line2D at 0x7f06cec3dfa0>]"
      ]
     },
     "execution_count": 81,
     "metadata": {},
     "output_type": "execute_result"
    },
    {
     "data": {
      "image/png": "[encoded data removed]",
      "text/plain": [
       "<Figure size 640x480 with 1 Axes>"
      ]
     },
     "metadata": {},
     "output_type": "display_data"
    }
   ],
   "source": [
    "\n",
    "df_id_2 = all_dataset.query('tagID == '\"2\")\n",
    "df_id_3 = all_dataset.query('tagID == '\"3\")\n",
    "df_id_5 = all_dataset.query('tagID == '\"5\")\n",
    "df_id_6 = all_dataset.query('tagID == '\"6\")\n",
    "df_id_8 = all_dataset.query('tagID == '\"8\")\n",
    "\n",
    "plt.plot(df_id_2.Temperature,label = \"tagID\")\n",
    "plt.plot(df_id_3.Temperature,label = \"tagID\")\n",
    "plt.plot(df_id_5.Temperature,label = \"tagID\")\n",
    "plt.plot(df_id_6.Temperature,label = \"tagID\")\n",
    "plt.plot(df_id_8.Temperature,label = \"tagID\")\n"
   ]
  },
  {
   "cell_type": "code",
   "execution_count": 96,
   "id": "cc7e9638",
   "metadata": {},
   "outputs": [
    {
     "data": {
      "text/plain": [
       "[<matplotlib.lines.Line2D at 0x7f06cdd3c400>]"
      ]
     },
     "execution_count": 96,
     "metadata": {},
     "output_type": "execute_result"
    },
    {
     "data": {
      "image/png": "[encoded data removed]",
      "text/plain": [
       "<Figure size 640x480 with 1 Axes>"
      ]
     },
     "metadata": {},
     "output_type": "display_data"
    }
   ],
   "source": [
    "plt.plot(df_id_2.Humidity,label = \"tagID\")\n",
    "plt.plot(df_id_3.Humidity,label = \"tagID\")\n",
    "plt.plot(df_id_5.Humidity,label = \"tagID\")\n",
    "plt.plot(df_id_6.Humidity,label = \"tagID\")\n",
    "plt.plot(df_id_8.Humidity,label = \"tagID\")"
   ]
  },
  {
   "cell_type": "code",
   "execution_count": 93,
   "id": "56b69748",
   "metadata": {},
   "outputs": [
    {
     "name": "stdout",
     "output_type": "stream",
     "text": [
      "id 2 summary\n",
      "         tagID         xAxis         yAxis         vAxis   Temperature  \\\n",
      "count  56718.0  56718.000000  56718.000000  56718.000000  56718.000000   \n",
      "mean       2.0      1.050443     -0.868049      2.437604     33.304955   \n",
      "std        0.0      0.687334      0.997877      2.406027     17.675622   \n",
      "min        2.0    -11.000000    -34.000000      0.000000     19.396000   \n",
      "25%        2.0      1.000000     -1.000000      1.000000     22.406000   \n",
      "50%        2.0      1.000000     -1.000000      2.000000     23.064000   \n",
      "75%        2.0      1.000000      0.000000      2.000000     59.961000   \n",
      "max        2.0     14.000000      4.000000     27.000000     79.036000   \n",
      "\n",
      "           Humidity  \n",
      "count  56718.000000  \n",
      "mean       7.024618  \n",
      "std       10.593326  \n",
      "min        0.167000  \n",
      "25%        0.167000  \n",
      "50%        0.673000  \n",
      "75%       15.604000  \n",
      "max       55.036000  \n",
      "id 5 summary\n",
      "         tagID         xAxis         yAxis         vAxis   Temperature  \\\n",
      "count  56718.0  56718.000000  56718.000000  56718.000000  56718.000000   \n",
      "mean       5.0      0.991220     -0.918562      2.437480     33.238179   \n",
      "std        0.0      0.649657      1.049348      2.406741     17.675620   \n",
      "min        5.0    -14.000000    -39.000000      0.000000     19.330000   \n",
      "25%        5.0      1.000000     -1.000000      1.000000     22.340000   \n",
      "50%        5.0      1.000000     -1.000000      2.000000     22.997000   \n",
      "75%        5.0      1.000000      0.000000      2.000000     59.894000   \n",
      "max        5.0     16.000000      4.000000     28.000000     78.968000   \n",
      "\n",
      "           Humidity  \n",
      "count  56718.000000  \n",
      "mean       6.958630  \n",
      "std       10.595283  \n",
      "min        0.100000  \n",
      "25%        0.100000  \n",
      "50%        0.607000  \n",
      "75%       15.543000  \n",
      "max       54.942000  \n",
      "\t\n",
      "id 8 summary\n",
      "         tagID         xAxis         yAxis         vAxis   Temperature  \\\n",
      "count  56718.0  56718.000000  56718.000000  56718.000000  56718.000000   \n",
      "mean       8.0      0.904863     -0.969128      2.436775     33.238285   \n",
      "std        0.0      0.627050      1.100091      2.406174     17.675636   \n",
      "min        8.0    -23.000000    -38.000000      0.000000     19.330000   \n",
      "25%        8.0      1.000000     -1.000000      1.000000     22.339250   \n",
      "50%        8.0      1.000000     -1.000000      2.000000     22.997000   \n",
      "75%        8.0      1.000000      0.000000      2.000000     59.894000   \n",
      "max        8.0     17.000000      6.000000     28.000000     78.970000   \n",
      "\n",
      "           Humidity  \n",
      "count  56718.000000  \n",
      "mean       6.958042  \n",
      "std       10.594813  \n",
      "min        0.100000  \n",
      "25%        0.100000  \n",
      "50%        0.607000  \n",
      "75%       15.539000  \n",
      "max       54.741000  \n"
     ]
    }
   ],
   "source": [
    "print(\"id 2 summary\")\n",
    "print(df_id_2.describe())\n",
    "print(\"id 5 summary\")\n",
    "print(df_id_5.describe())\n",
    "print(\"\\t\")\n",
    "print(\"id 8 summary\")\n",
    "print(df_id_8.describe())\n"
   ]
  },
  {
   "cell_type": "code",
   "execution_count": 69,
   "id": "62fe70c9",
   "metadata": {},
   "outputs": [
    {
     "data": {
      "text/plain": [
       "<Figure size 800x800 with 0 Axes>"
      ]
     },
     "metadata": {},
     "output_type": "display_data"
    }
   ],
   "source": [
    "fig = plt.figure(figsize = (8,8))\n",
    "fig.set_facecolor('white')\n",
    "ax = fig.add_subplot()\n",
    "ax.plot("
   ]
  },
  {
   "cell_type": "code",
   "execution_count": null,
   "id": "1713ea1e",
   "metadata": {},
   "outputs": [],
   "source": [
    "plt.plot(df_id_2,)"
   ]
  },
  {
   "cell_type": "code",
   "execution_count": 75,
   "id": "cf9749a0",
   "metadata": {},
   "outputs": [
    {
     "name": "stdout",
     "output_type": "stream",
     "text": [
      "       tagID     measurement time  xAxis  yAxis  vAxis  Temperature  Humidity\n",
      "0          2  2023-01-16 09:33:49   10.0   -7.0   14.0       20.584    48.888\n",
      "1          2  2023-01-16 09:33:53   11.0   -7.0   14.0       20.912    55.036\n",
      "2          2  2023-01-16 09:33:58    8.0   -4.0    9.0       21.619    54.564\n",
      "3          2  2023-01-16 09:34:02    2.0    2.0    3.0       22.299    54.379\n",
      "4          2  2023-01-16 09:34:07    2.0    3.0    3.0       22.327    53.522\n",
      "...      ...                  ...    ...    ...    ...          ...       ...\n",
      "56713      2  2023-01-20 16:05:45   -1.0    1.0   10.0       23.060     6.254\n",
      "56714      2  2023-01-20 16:05:50   -2.0    1.0    8.0       23.053     9.476\n",
      "56715      2  2023-01-20 16:05:55   -2.0    0.0    8.0       23.032    11.118\n",
      "56716      2  2023-01-20 16:06:00   -0.0    0.0    8.0       23.019    12.109\n",
      "56717      2  2023-01-20 16:06:05    0.0   -0.0    8.0       23.015    12.620\n",
      "\n",
      "[56718 rows x 7 columns]\n",
      "       tagID     measurement time  xAxis  yAxis  vAxis  Temperature  Humidity\n",
      "0          3  2023-01-16 09:37:00   12.0   -7.0   15.0       20.446    50.651\n",
      "1          3  2023-01-16 09:37:04   12.0   -8.0   16.0       20.719    54.693\n",
      "2          3  2023-01-16 09:37:09    6.0   -4.0    7.0       21.730    54.675\n",
      "3          3  2023-01-16 09:37:13    3.0    2.0    3.0       22.262    54.416\n",
      "4          3  2023-01-16 09:37:18    1.0    5.0    3.0       22.291    53.418\n",
      "...      ...                  ...    ...    ...    ...          ...       ...\n",
      "56713      3  2023-01-20 16:08:56   -1.0    1.0   10.0       23.023     6.402\n",
      "56714      3  2023-01-20 16:09:01   -3.0    1.0    8.0       23.012     9.587\n",
      "56715      3  2023-01-20 16:09:06   -2.0    1.0    8.0       22.989    11.129\n",
      "56716      3  2023-01-20 16:09:11   -0.0    0.0    8.0       22.977    12.025\n",
      "56717      3  2023-01-20 16:09:16    1.0   -0.0    8.0       22.973    12.688\n",
      "\n",
      "[56718 rows x 7 columns]\n",
      "       tagID     measurement time  xAxis  yAxis  vAxis  Temperature  Humidity\n",
      "0          5  2023-01-16 09:40:33    9.0   -6.0   12.0       20.573    47.833\n",
      "1          5  2023-01-16 09:40:37   13.0   -8.0   16.0       20.582    54.942\n",
      "2          5  2023-01-16 09:40:42    8.0   -5.0   10.0       21.412    54.472\n",
      "3          5  2023-01-16 09:40:46    3.0    1.0    3.0       22.223    54.534\n",
      "4          5  2023-01-16 09:40:51    2.0    4.0    3.0       22.263    53.639\n",
      "...      ...                  ...    ...    ...    ...          ...       ...\n",
      "56713      5  2023-01-20 16:12:29   -1.0    1.0   11.0       22.995     5.420\n",
      "56714      5  2023-01-20 16:12:34   -2.0    0.0    8.0       22.991     9.039\n",
      "56715      5  2023-01-20 16:12:39   -2.0    1.0    8.0       22.969    10.887\n",
      "56716      5  2023-01-20 16:12:44   -1.0    0.0    8.0       22.953    11.852\n",
      "56717      5  2023-01-20 16:12:49    0.0   -0.0    8.0       22.948    12.505\n",
      "\n",
      "[56718 rows x 7 columns]\n",
      "       tagID     measurement time  xAxis  yAxis  vAxis  Temperature  Humidity\n",
      "0          6  2023-01-16 09:43:09   10.0   -6.0   12.0       20.594    47.378\n",
      "1          6  2023-01-16 09:43:13   10.0   -6.0   13.0       20.967    55.211\n",
      "2          6  2023-01-16 09:43:18    9.0   -5.0   10.0       21.429    54.376\n",
      "3          6  2023-01-16 09:43:22    1.0    3.0    2.0       22.228    54.250\n",
      "4          6  2023-01-16 09:43:27    2.0    2.0    3.0       22.257    53.505\n",
      "...      ...                  ...    ...    ...    ...          ...       ...\n",
      "56713      6  2023-01-20 16:15:05   -1.0    1.0   11.0       22.990     6.035\n",
      "56714      6  2023-01-20 16:15:10   -2.0    1.0    8.0       22.986     9.288\n",
      "56715      6  2023-01-20 16:15:15   -2.0    0.0    8.0       22.967    11.009\n",
      "56716      6  2023-01-20 16:15:20   -1.0    1.0    8.0       22.954    12.076\n",
      "56717      6  2023-01-20 16:15:25    0.0   -0.0    8.0       22.948    12.465\n",
      "\n",
      "[56718 rows x 7 columns]\n",
      "       tagID     measurement time  xAxis  yAxis  vAxis  Temperature  Humidity\n",
      "0          8  2023-01-16 09:45:59   12.0   -8.0   16.0       20.363    51.708\n",
      "1          8  2023-01-16 09:46:03   13.0   -9.0   16.0       20.603    54.486\n",
      "2          8  2023-01-16 09:46:08    5.0   -4.0    6.0       21.797    54.741\n",
      "3          8  2023-01-16 09:46:12    4.0    1.0    3.0       22.240    54.437\n",
      "4          8  2023-01-16 09:46:17    1.0    6.0    3.0       22.268    53.356\n",
      "...      ...                  ...    ...    ...    ...          ...       ...\n",
      "56713      8  2023-01-20 16:17:55   -2.0    0.0   10.0       23.000     6.491\n",
      "56714      8  2023-01-20 16:18:00   -3.0    0.0    8.0       22.987     9.654\n",
      "56715      8  2023-01-20 16:18:05   -2.0    1.0    8.0       22.964    11.135\n",
      "56716      8  2023-01-20 16:18:10   -0.0   -0.0    8.0       22.951    11.975\n",
      "56717      8  2023-01-20 16:18:15    1.0   -0.0    8.0       22.948    12.729\n",
      "\n",
      "[56718 rows x 7 columns]\n"
     ]
    },
    {
     "data": {
      "image/png": "[encoded data removed]",
      "text/plain": [
       "<Figure size 640x480 with 1 Axes>"
      ]
     },
     "metadata": {},
     "output_type": "display_data"
    }
   ],
   "source": [
    "groups = no\n",
    "\n",
    "linewidths = [1, 2, 3, 4]\n",
    "\n",
    "\n",
    "\n",
    "for group_name in no:\n",
    "    # subsetting\n",
    "\n",
    "    long_df_sub = all_dataset[all_dataset['tagID'] == group_name]\n",
    "    print(long_df_sub)\n",
    "    \n",
    "    # plotting\n",
    "\n",
    "    plt.plot(long_df_sub.Humidity)\n",
    "\n"
   ]
  }
 ],
 "metadata": {
  "kernelspec": {
   "display_name": "test_dudco",
   "language": "python",
   "name": "test_dudco"
  },
  "language_info": {
   "codemirror_mode": {
    "name": "ipython",
    "version": 3
   },
   "file_extension": ".py",
   "mimetype": "text/x-python",
   "name": "python",
   "nbconvert_exporter": "python",
   "pygments_lexer": "ipython3",
   "version": "3.8.10"
  }
 },
 "nbformat": 4,
 "nbformat_minor": 5
}
