{
 "cells": [
  {
   "cell_type": "code",
   "execution_count": 1,
   "id": "bc161d66",
   "metadata": {},
   "outputs": [],
   "source": [
    "import pandas as pd\n",
    "import numpy as np\n",
    "import matplotlib.pyplot as plt\n",
    "import seaborn as sns"
   ]
  },
  {
   "cell_type": "code",
   "execution_count": 57,
   "id": "76023a7f",
   "metadata": {
    "scrolled": true
   },
   "outputs": [
    {
     "name": "stdout",
     "output_type": "stream",
     "text": [
      "1\n",
      "./smart_sensor_dataset_2/2023-01-30_tag0002.csv\n",
      "2\n",
      "./smart_sensor_dataset_2/2023-02-06_tag0002.csv\n",
      "3\n",
      "./smart_sensor_dataset_2/2023-02-13_tag0002.csv\n",
      "4\n",
      "./smart_sensor_dataset_2/2023-02-20_tag0002.csv\n",
      "5\n",
      "./smart_sensor_dataset_2/2023-01-30_tag0003.csv\n",
      "6\n",
      "./smart_sensor_dataset_2/2023-02-06_tag0003.csv\n",
      "7\n",
      "./smart_sensor_dataset_2/2023-02-13_tag0003.csv\n",
      "8\n",
      "./smart_sensor_dataset_2/2023-02-20_tag0003.csv\n",
      "9\n",
      "./smart_sensor_dataset_2/2023-01-30_tag0005.csv\n",
      "10\n",
      "./smart_sensor_dataset_2/2023-02-06_tag0005.csv\n",
      "11\n",
      "./smart_sensor_dataset_2/2023-02-13_tag0005.csv\n",
      "12\n",
      "./smart_sensor_dataset_2/2023-02-20_tag0005.csv\n",
      "13\n",
      "./smart_sensor_dataset_2/2023-01-30_tag0006.csv\n",
      "14\n",
      "./smart_sensor_dataset_2/2023-02-06_tag0006.csv\n",
      "15\n",
      "./smart_sensor_dataset_2/2023-02-13_tag0006.csv\n",
      "16\n",
      "./smart_sensor_dataset_2/2023-02-20_tag0006.csv\n",
      "17\n",
      "./smart_sensor_dataset_2/2023-01-30_tag0008.csv\n",
      "18\n",
      "./smart_sensor_dataset_2/2023-02-06_tag0008.csv\n",
      "19\n",
      "./smart_sensor_dataset_2/2023-02-13_tag0008.csv\n",
      "20\n",
      "./smart_sensor_dataset_2/2023-02-20_tag0008.csv\n",
      "21\n",
      "./smart_sensor_dataset_2/2023-03-13_tag0002.csv\n",
      "22\n",
      "./smart_sensor_dataset_2/2023-03-20_tag0002.csv\n",
      "23\n",
      "./smart_sensor_dataset_2/2023-03-27_tag0002.csv\n",
      "24\n",
      "./smart_sensor_dataset_2/2023-04-03_tag0002.csv\n",
      "25\n",
      "./smart_sensor_dataset_2/2023-04-10_tag0002.csv\n",
      "26\n",
      "./smart_sensor_dataset_2/2023-04-17_tag0002.csv\n",
      "27\n",
      "./smart_sensor_dataset_2/2023-03-13_tag0003.csv\n",
      "28\n",
      "./smart_sensor_dataset_2/2023-03-20_tag0003.csv\n",
      "29\n",
      "./smart_sensor_dataset_2/2023-03-27_tag0003.csv\n",
      "30\n",
      "./smart_sensor_dataset_2/2023-04-03_tag0003.csv\n",
      "31\n",
      "./smart_sensor_dataset_2/2023-04-10_tag0003.csv\n",
      "32\n",
      "./smart_sensor_dataset_2/2023-04-17_tag0003.csv\n",
      "33\n",
      "./smart_sensor_dataset_2/2023-03-13_tag0005.csv\n",
      "34\n",
      "./smart_sensor_dataset_2/2023-03-20_tag0005.csv\n",
      "35\n",
      "./smart_sensor_dataset_2/2023-03-27_tag0005.csv\n",
      "36\n",
      "./smart_sensor_dataset_2/2023-04-03_tag0005.csv\n",
      "37\n",
      "./smart_sensor_dataset_2/2023-04-10_tag0005.csv\n",
      "38\n",
      "./smart_sensor_dataset_2/2023-04-17_tag0005.csv\n",
      "39\n",
      "./smart_sensor_dataset_2/2023-03-13_tag0006.csv\n",
      "40\n",
      "./smart_sensor_dataset_2/2023-03-20_tag0006.csv\n",
      "41\n",
      "./smart_sensor_dataset_2/2023-03-27_tag0006.csv\n",
      "42\n",
      "./smart_sensor_dataset_2/2023-04-03_tag0006.csv\n",
      "43\n",
      "./smart_sensor_dataset_2/2023-04-10_tag0006.csv\n",
      "44\n",
      "./smart_sensor_dataset_2/2023-04-17_tag0006.csv\n",
      "45\n",
      "./smart_sensor_dataset_2/2023-03-13_tag0008.csv\n",
      "46\n",
      "./smart_sensor_dataset_2/2023-03-20_tag0008.csv\n",
      "47\n",
      "./smart_sensor_dataset_2/2023-03-27_tag0008.csv\n",
      "48\n",
      "./smart_sensor_dataset_2/2023-04-03_tag0008.csv\n",
      "49\n",
      "./smart_sensor_dataset_2/2023-04-10_tag0008.csv\n",
      "50\n",
      "./smart_sensor_dataset_2/2023-04-17_tag0008.csv\n",
      "(1131720, 8)\n",
      "(1696140, 8)\n"
     ]
    }
   ],
   "source": [
    "tagID = [2,3,5,6,8]\n",
    "Date_N = [\"2023-01-30\",\"2023-02-06\",\"2023-02-13\",\"2023-02-20\"]  #\"2023-03-06\"\n",
    "Date_Y = [\"2023-03-13\",\"2023-03-20\",\"2023-03-27\",\"2023-04-03\",\"2023-04-10\",\"2023-04-17\"]\n",
    "PATH = \"./smart_sensor_dataset_2\"\n",
    "no = 0\n",
    "\n",
    "all_dataset_N = pd.DataFrame()  #불량\n",
    "all_dataset_Y = pd.DataFrame()  #정상\n",
    "\n",
    "\n",
    "#2023-02-06_tag0002.csv\n",
    "\n",
    "#불량\n",
    "for i in tagID:\n",
    "    for d in Date_N:\n",
    "        no += 1\n",
    "        print(no)\n",
    "        path = PATH + \"/{}_tag000{}.csv\".format(d,i)\n",
    "        print(path)\n",
    "        dataset = pd.read_csv(path)\n",
    "        dataset['case'] = \"case {}\".format(no)\n",
    "        all_dataset_N = pd.concat([all_dataset_N,dataset])\n",
    "\n",
    "\n",
    "#정상\n",
    "for i in tagID:\n",
    "    for d in Date_Y:\n",
    "        no += 1\n",
    "        print(no)\n",
    "        path = PATH + \"/{}_tag000{}.csv\".format(d,i)\n",
    "        print(path)\n",
    "        dataset = pd.read_csv(path)\n",
    "        dataset['case'] = \"case {}\".format(no)\n",
    "        all_dataset_Y = pd.concat([all_dataset_Y,dataset])\n",
    "\n",
    "        \n",
    "print(all_dataset_N.shape)  # 불량\n",
    "print(all_dataset_Y.shape)  # 정상"
   ]
  },
  {
   "cell_type": "code",
   "execution_count": 82,
   "id": "27263790",
   "metadata": {},
   "outputs": [
    {
     "name": "stdout",
     "output_type": "stream",
     "text": [
      "정상 데이터\n",
      "              xAxis         yAxis         vAxis   Temperature      Humidity\n",
      "count  1.696140e+06  1.696140e+06  1.696140e+06  1.696140e+06  1.696140e+06\n",
      "mean   8.813500e-01 -1.004888e+00  2.429782e+00  3.315864e+01  6.817612e+00\n",
      "std    5.377752e-01  1.093520e+00  2.393879e+00  1.769117e+01  1.054942e+01\n",
      "min   -2.300000e+01 -3.900000e+01  0.000000e+00  1.922800e+01  0.000000e+00\n",
      "25%    1.000000e+00 -1.000000e+00  1.000000e+00  2.223900e+01  0.000000e+00\n",
      "50%    1.000000e+00 -1.000000e+00  2.000000e+00  2.289700e+01  5.060000e-01\n",
      "75%    1.000000e+00  0.000000e+00  2.000000e+00  5.979600e+01  1.543600e+01\n",
      "max    1.500000e+01  3.000000e+00  2.800000e+01  7.887000e+01  5.214100e+01 \\w\n",
      "불량 데이터\n",
      "              tagID         xAxis         yAxis         vAxis   Temperature  \\\n",
      "count  1.131720e+06  1.131720e+06  1.131720e+06  1.131720e+06  1.131720e+06   \n",
      "mean   4.800000e+00  8.809308e-01 -1.006487e+00  2.432011e+00  3.315154e+01   \n",
      "std    2.135417e+00  5.499880e-01  1.114210e+00  2.398002e+00  1.768621e+01   \n",
      "min    2.000000e+00 -2.300000e+01 -3.900000e+01  0.000000e+00  1.922800e+01   \n",
      "25%    3.000000e+00  1.000000e+00 -1.000000e+00  1.000000e+00  2.223900e+01   \n",
      "50%    5.000000e+00  1.000000e+00 -1.000000e+00  2.000000e+00  2.289700e+01   \n",
      "75%    6.000000e+00  1.000000e+00  0.000000e+00  2.000000e+00  5.979600e+01   \n",
      "max    8.000000e+00  1.600000e+01  6.000000e+00  2.800000e+01  7.887000e+01   \n",
      "\n",
      "           Humidity  \n",
      "count  1.131720e+06  \n",
      "mean   6.835274e+00  \n",
      "std    1.057023e+01  \n",
      "min    0.000000e+00  \n",
      "25%    0.000000e+00  \n",
      "50%    5.060000e-01  \n",
      "75%    1.543800e+01  \n",
      "max    5.511100e+01  \n"
     ]
    }
   ],
   "source": [
    "# print(\"정상 데이터\")\n",
    "# print(all_dataset_Y.describe())\n",
    "\n",
    "# print(\"불량 데이터\")\n",
    "# print(all_dataset_N.describe())"
   ]
  },
  {
   "cell_type": "code",
   "execution_count": 76,
   "id": "e167d2ee",
   "metadata": {
    "scrolled": true
   },
   "outputs": [
    {
     "name": "stdout",
     "output_type": "stream",
     "text": [
      "              xAxis         yAxis         vAxis   Temperature      Humidity\n",
      "count  1.696140e+06  1.696140e+06  1.696140e+06  1.696140e+06  1.696140e+06\n",
      "mean   8.813500e-01 -1.004888e+00  2.429782e+00  3.315864e+01  6.817612e+00\n",
      "std    5.377752e-01  1.093520e+00  2.393879e+00  1.769117e+01  1.054942e+01\n",
      "min   -2.300000e+01 -3.900000e+01  0.000000e+00  1.922800e+01  0.000000e+00\n",
      "25%    1.000000e+00 -1.000000e+00  1.000000e+00  2.223900e+01  0.000000e+00\n",
      "50%    1.000000e+00 -1.000000e+00  2.000000e+00  2.289700e+01  5.060000e-01\n",
      "75%    1.000000e+00  0.000000e+00  2.000000e+00  5.979600e+01  1.543600e+01\n",
      "max    1.500000e+01  3.000000e+00  2.800000e+01  7.887000e+01  5.214100e+01\n",
      "category\n",
      "category\n"
     ]
    }
   ],
   "source": [
    "#print(all_dataset_Y.head())\n",
    "#print(all_dataset_Y.tail())\n",
    "\n",
    "#print(all_dataset_N.describe())\n",
    "#print(all_dataset_Y.describe())\n",
    "\n",
    "all_dataset_Y = all_dataset_Y.astype({'tagID':'category'})\n",
    "all_dataset_Y = all_dataset_Y.astype({'case':'category'})\n",
    "all_dataset_N = all_dataset_N.astype({'tagID':'category'})\n",
    "all_dataset_N = all_dataset_N.astype({'case':'category'})\n",
    "\n",
    "\n",
    "print(all_dataset_Y.describe())\n",
    "print(all_dataset_Y['tagID'].dtypes)\n",
    "print(all_dataset_Y['case'].dtypes)\n"
   ]
  },
  {
   "cell_type": "code",
   "execution_count": 98,
   "id": "32a02182",
   "metadata": {},
   "outputs": [
    {
     "name": "stdout",
     "output_type": "stream",
     "text": [
      "              xAxis         yAxis         vAxis   Temperature      Humidity\n",
      "count  56558.000000  56558.000000  56558.000000  56558.000000  56558.000000\n",
      "mean       0.873793     -1.023056      2.430867     33.155840      6.823909\n",
      "std        0.505380      1.118395      2.395173     17.689282     10.556522\n",
      "min      -11.000000    -35.000000      0.000000     19.229000      0.000000\n",
      "25%        1.000000     -1.000000      1.000000     22.239000      0.000000\n",
      "50%        1.000000     -1.000000      2.000000     22.896000      0.506000\n",
      "75%        1.000000      0.000000      2.000000     59.796000     15.433000\n",
      "max       13.000000      1.000000     27.000000     78.869000     52.092000\n"
     ]
    },
    {
     "data": {
      "text/plain": [
       "[<matplotlib.lines.Line2D at 0x7f7148ccd1f0>]"
      ]
     },
     "execution_count": 98,
     "metadata": {},
     "output_type": "execute_result"
    },
    {
     "data": {
      "image/png": "[encoded data removed]",
      "text/plain": [
       "<Figure size 640x480 with 1 Axes>"
      ]
     },
     "metadata": {},
     "output_type": "display_data"
    }
   ],
   "source": [
    "all_dataset_Y.head()\n",
    "\n",
    "case_20 = all_dataset_Y.query('case == \"case 21\"')\n",
    "\n",
    "#print(case_20.head())\n",
    "\n",
    "print(case_20.describe())\n",
    "\n",
    "plt.plot(case_20.Temperature, label = 'case')\n"
   ]
  },
  {
   "cell_type": "code",
   "execution_count": 62,
   "id": "94fcac3d",
   "metadata": {},
   "outputs": [
    {
     "name": "stdout",
     "output_type": "stream",
     "text": [
      "50\n"
     ]
    },
    {
     "data": {
      "text/plain": [
       "range(0, 50)"
      ]
     },
     "execution_count": 62,
     "metadata": {},
     "output_type": "execute_result"
    }
   ],
   "source": [
    "print(no)\n",
    "range(no)\n",
    "\n",
    "for i in range(50)"
   ]
  },
  {
   "cell_type": "code",
   "execution_count": null,
   "id": "156c4fa8",
   "metadata": {},
   "outputs": [],
   "source": [
    "case20 = all_dataset_Y"
   ]
  }
 ],
 "metadata": {
  "kernelspec": {
   "display_name": "test_dudco",
   "language": "python",
   "name": "test_dudco"
  },
  "language_info": {
   "codemirror_mode": {
    "name": "ipython",
    "version": 3
   },
   "file_extension": ".py",
   "mimetype": "text/x-python",
   "name": "python",
   "nbconvert_exporter": "python",
   "pygments_lexer": "ipython3",
   "version": "3.8.10"
  }
 },
 "nbformat": 4,
 "nbformat_minor": 5
}
