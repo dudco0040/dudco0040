{
 "cells": [
  {
   "cell_type": "code",
   "execution_count": 1,
   "metadata": {},
   "outputs": [],
   "source": [
    "# 머신러닝 언어감지 함수\n",
    "\n",
    "import glob\n",
    "import os\n",
    "import pandas as pd\n",
    "import matplotlib.pyplot as plt\n",
    "\n",
    "# folder name을 전달\n",
    "def get_data_label(folder_name):\n",
    "    \n",
    "    files = glob.glob(\"./머신러닝/language/{}/*.txt\".format(folder_name))  # 폴더 내 텍스트 파일 추출\n",
    "    data = []\n",
    "    label = []\n",
    "\n",
    "    for fname in files:\n",
    "        # 레이블 구하기\n",
    "        basename = os.path.basename(fname)\n",
    "        lang = basename.split(\"-\")[0]  # 레이블 추출 : 각 파일의 이름 추출\n",
    "\n",
    "        # 텍스트 추출하기\n",
    "        with open(fname, \"r\", encoding=\"utf-8\") as f:\n",
    "            text = f.read()  # 파일 내용 읽어오기\n",
    "            text = text.lower()  # 소문자 변환\n",
    "\n",
    "        # 알파벳 출현 빈도 구하기\n",
    "        code_a = ord(\"a\")\n",
    "        code_z = ord(\"z\")\n",
    "        cnt = [0 for n in range(0, 26)]  # 26개의 0 - 알파벳의 개수 기본값을 0으로 설정하고, 발생 빈도에 따라 +1 (알파벳 순서)\n",
    "        for char in text: \n",
    "            code_current = ord(char)\n",
    "            if code_a <= code_current <= code_z:\n",
    "                cnt[code_current - code_a] += 1  \n",
    "        print(cnt)\n",
    "\n",
    "        \n",
    "        # 리스트에 넣기\n",
    "        label.append(lang)\n",
    "        data.append(cnt)\n",
    "    return data, label\n",
    "\n",
    "\n",
    "def show_me_the_graph(data, label):\n",
    "    def Normalize(i):\n",
    "        return i/total\n",
    "    # 그래프 준비하기\n",
    "    graph_dict = {}\n",
    "    for i in range(0, len(data)):\n",
    "        y = label[i]\n",
    "        total = sum(data[i])\n",
    "        x = list(map(Normalize, data[i]))\n",
    "        if not (y in graph_dict):\n",
    "            graph_dict[y] = x\n",
    "\n",
    "    asclist = [[chr(n) for n in range(97, 97 + 26)]]\n",
    "    df = pd.DataFrame(graph_dict, index=asclist)\n",
    "    # 바그래프\n",
    "    df.plot(kind='bar', subplots=True, ylim=(0, 0.15))\n",
    "    plt.show()"
   ]
  },
  {
   "cell_type": "markdown",
   "metadata": {},
   "source": [
    "ord(\"a\"): 문자의 고유한 코드 번호를 알 수 있음"
   ]
  },
  {
   "cell_type": "code",
   "execution_count": 2,
   "metadata": {},
   "outputs": [
    {
     "data": {
      "text/plain": [
       "97"
      ]
     },
     "execution_count": 2,
     "metadata": {},
     "output_type": "execute_result"
    }
   ],
   "source": [
    "ord(\"a\")"
   ]
  },
  {
   "cell_type": "code",
   "execution_count": 3,
   "metadata": {},
   "outputs": [
    {
     "data": {
      "text/plain": [
       "122"
      ]
     },
     "execution_count": 3,
     "metadata": {},
     "output_type": "execute_result"
    }
   ],
   "source": [
    "ord(\"z\")"
   ]
  },
  {
   "cell_type": "code",
   "execution_count": 4,
   "metadata": {},
   "outputs": [
    {
     "data": {
      "text/plain": [
       "46"
      ]
     },
     "execution_count": 4,
     "metadata": {},
     "output_type": "execute_result"
    }
   ],
   "source": [
    "ord(\".\")   \n",
    "\n",
    "# 알파벳보다 작은 숫자를 가지기 때문에 알파벳인 a~z의 고유 코드번호인 97~122 사이의 숫자를 지정하면 '.'과 같은 특수 기호를 제외할 수 있음"
   ]
  },
  {
   "cell_type": "markdown",
   "metadata": {},
   "source": [
    "레이블은 파일명(어느나라 언어인지)\n",
    "\n",
    "feature는?"
   ]
  },
  {
   "cell_type": "code",
   "execution_count": 5,
   "metadata": {
    "scrolled": true
   },
   "outputs": [
    {
     "name": "stdout",
     "output_type": "stream",
     "text": [
      "[349, 59, 210, 212, 484, 72, 88, 201, 340, 8, 25, 247, 121, 356, 412, 76, 0, 357, 282, 370, 119, 45, 65, 3, 92, 2]\n",
      "[706, 167, 255, 326, 1149, 146, 262, 230, 632, 22, 82, 355, 203, 449, 577, 170, 46, 756, 601, 652, 257, 115, 117, 17, 90, 5]\n",
      "[259, 44, 165, 118, 434, 53, 91, 85, 342, 9, 6, 206, 81, 273, 277, 75, 6, 195, 318, 293, 105, 68, 43, 2, 65, 2]\n",
      "[383, 147, 159, 210, 642, 89, 125, 313, 346, 8, 69, 238, 114, 311, 465, 89, 2, 314, 389, 497, 129, 27, 104, 32, 93, 9]\n",
      "[337, 93, 142, 181, 645, 93, 93, 260, 297, 15, 27, 181, 132, 284, 302, 86, 2, 331, 272, 436, 114, 49, 109, 14, 68, 3]\n",
      "[1228, 163, 581, 831, 2347, 253, 167, 242, 1082, 36, 64, 1096, 418, 1126, 767, 406, 92, 1171, 1117, 1210, 834, 223, 11, 61, 57, 13]\n",
      "[2162, 414, 992, 1244, 4155, 327, 319, 350, 1998, 59, 54, 1804, 873, 1908, 1580, 809, 190, 2074, 2278, 1958, 1511, 295, 126, 108, 148, 13]\n",
      "[1230, 221, 599, 761, 2550, 178, 179, 195, 1208, 51, 17, 1008, 711, 1290, 1048, 532, 112, 1301, 1325, 1111, 861, 215, 44, 84, 82, 2]\n",
      "[585, 127, 321, 412, 1266, 105, 109, 116, 690, 35, 15, 500, 234, 596, 453, 189, 47, 661, 536, 492, 344, 122, 6, 41, 40, 16]\n",
      "[405, 59, 181, 266, 735, 62, 103, 100, 461, 20, 12, 295, 127, 410, 306, 120, 24, 399, 371, 325, 225, 72, 2, 17, 27, 6]\n",
      "[253, 65, 29, 69, 194, 9, 120, 28, 210, 8, 50, 97, 59, 173, 75, 50, 0, 154, 139, 94, 85, 8, 13, 3, 19, 3]\n",
      "[1171, 196, 73, 313, 741, 88, 269, 147, 796, 42, 301, 295, 305, 672, 282, 276, 0, 370, 646, 403, 322, 64, 40, 11, 108, 5]\n",
      "[4514, 594, 140, 986, 2129, 323, 1262, 475, 2218, 188, 1003, 904, 1067, 2528, 787, 765, 0, 1325, 1212, 1269, 1235, 40, 104, 6, 371, 6]\n",
      "[2522, 377, 68, 483, 1039, 118, 672, 224, 1451, 99, 611, 723, 647, 1326, 863, 442, 0, 746, 811, 742, 695, 33, 27, 3, 175, 8]\n",
      "[11092, 1581, 508, 2840, 5149, 315, 2102, 1283, 5464, 558, 2213, 2198, 2093, 6155, 2145, 1831, 11, 3504, 3350, 3093, 2665, 185, 384, 19, 796, 70]\n",
      "[6098, 672, 222, 360, 662, 96, 2633, 514, 2383, 35, 739, 1390, 826, 3478, 1223, 917, 24, 483, 1341, 1491, 752, 67, 339, 14, 550, 29]\n",
      "[7231, 589, 164, 460, 758, 59, 2955, 555, 2799, 23, 1152, 1523, 1420, 4250, 1626, 948, 8, 762, 1779, 1475, 1074, 21, 299, 10, 926, 5]\n",
      "[4100, 376, 45, 228, 532, 5, 1632, 201, 1256, 32, 557, 880, 628, 2414, 764, 559, 1, 480, 845, 1064, 621, 19, 255, 1, 352, 1]\n",
      "[2054, 264, 220, 252, 751, 57, 774, 220, 862, 22, 238, 491, 432, 1307, 648, 337, 5, 531, 682, 634, 322, 59, 95, 10, 270, 31]\n",
      "[1469, 165, 142, 269, 466, 42, 240, 49, 548, 17, 107, 367, 173, 834, 491, 224, 13, 286, 472, 335, 202, 35, 42, 3, 246, 22]\n",
      "[3094, 614, 1566, 2227, 5297, 913, 730, 1040, 3509, 110, 251, 1746, 1373, 3376, 3820, 1292, 30, 3199, 3629, 3427, 1182, 674, 1647, 257, 597, 19]\n",
      "[8185, 1649, 3604, 3909, 13240, 1703, 1932, 4353, 7543, 455, 687, 4417, 2588, 7191, 7537, 4179, 116, 6752, 6484, 8042, 2817, 1328, 1517, 216, 1356, 152]\n",
      "[1508, 319, 952, 1325, 3378, 358, 229, 194, 2286, 74, 46, 1228, 866, 1965, 2062, 937, 169, 1788, 2393, 1818, 1140, 368, 768, 247, 137, 11]\n",
      "[3256, 517, 1743, 1827, 6313, 552, 697, 834, 3601, 188, 108, 2661, 1504, 3209, 3166, 2247, 312, 2902, 3308, 3005, 2204, 616, 131, 194, 152, 54]\n",
      "[642, 138, 94, 272, 550, 70, 164, 96, 557, 33, 151, 211, 258, 512, 373, 160, 4, 428, 488, 325, 227, 102, 207, 30, 59, 3]\n",
      "[4224, 668, 374, 1066, 2263, 159, 923, 644, 2104, 186, 988, 1103, 1048, 2304, 799, 932, 4, 1375, 1251, 1365, 1216, 120, 118, 12, 380, 15]\n",
      "[4868, 516, 377, 701, 868, 209, 2165, 369, 2144, 6, 626, 932, 1001, 3207, 1525, 821, 4, 940, 1540, 1371, 627, 126, 744, 89, 448, 11]\n",
      "[277, 28, 31, 41, 92, 15, 110, 19, 116, 1, 34, 67, 59, 175, 112, 87, 2, 73, 87, 102, 62, 3, 27, 1, 30, 1]\n"
     ]
    },
    {
     "data": {
      "image/png": "[encoded data removed]",
      "text/plain": [
       "<Figure size 432x288 with 4 Axes>"
      ]
     },
     "metadata": {
      "needs_background": "light"
     },
     "output_type": "display_data"
    }
   ],
   "source": [
    "train_data, train_label = get_data_label(\"train\")\n",
    "test_data, test_label = get_data_label(\"test\")\n",
    "\n",
    "# 언어 별 알파벳 출현 빈도수 \n",
    "show_me_the_graph(train_data,train_label)\n",
    "# 알파벳 출현 빈도수를 feature로 설정"
   ]
  },
  {
   "cell_type": "code",
   "execution_count": 6,
   "metadata": {},
   "outputs": [],
   "source": [
    "# 분류\n",
    "from sklearn.svm import SVC\n",
    "from sklearn.metrics import accuracy_score"
   ]
  },
  {
   "cell_type": "code",
   "execution_count": 7,
   "metadata": {
    "scrolled": true
   },
   "outputs": [
    {
     "name": "stdout",
     "output_type": "stream",
     "text": [
      "0.5\n"
     ]
    }
   ],
   "source": [
    "model = SVC()\n",
    "model.fit(train_data, train_label)\n",
    "result = model.predict(test_data)\n",
    "score = accuracy_score(result, test_label)\n",
    "print(score)   #??? 50%...."
   ]
  },
  {
   "cell_type": "markdown",
   "metadata": {},
   "source": [
    "정확도가 적게 나온 이유\n",
    "\n",
    "지도학습을 할 때 빈도수의 숫자 간의 편차가 커지면 숫자가 큰 문자를 중요하다고 생각함\n",
    "\n",
    "-> 숫자의 범위를 줄여주어 편차를 줄여야함\n",
    "\n",
    "-> 정규화 과정이 필요\n",
    "\n",
    "각 빈도수를 빈도수의 총합으로 나눠 "
   ]
  },
  {
   "cell_type": "code",
   "execution_count": 8,
   "metadata": {},
   "outputs": [],
   "source": [
    "# 정규화\n",
    "\n",
    "import glob\n",
    "import os\n",
    "import pandas as pd\n",
    "import matplotlib.pyplot as plt\n",
    "\n",
    "# folder name을 전달\n",
    "def get_data_label(folder_name):\n",
    "    def Nomalize(i):\n",
    "        return i/total\n",
    "    \n",
    "    files = glob.glob(\"./머신러닝/language/{}/*.txt\".format(folder_name))  # 폴더 내 텍스트 파일 추출\n",
    "    data = []\n",
    "    label = []\n",
    "\n",
    "    for fname in files:\n",
    "        # 레이블 구하기\n",
    "        basename = os.path.basename(fname)\n",
    "        lang = basename.split(\"-\")[0]  # 레이블 추출 : 각 파일의 이름 추출\n",
    "\n",
    "        # 텍스트 추출하기\n",
    "        with open(fname, \"r\", encoding=\"utf-8\") as f:\n",
    "            text = f.read()  # 파일 내용 읽어오기\n",
    "            text = text.lower()  # 소문자 변환\n",
    "\n",
    "        # 알파벳 출현 빈도 구하기\n",
    "        code_a = ord(\"a\")\n",
    "        code_z = ord(\"z\")\n",
    "        cnt = [0 for n in range(0, 26)]  # 26개의 0 - 알파벳의 개수 기본값을 0으로 설정하고, 발생 빈도에 따라 +1 (알파벳 순서)\n",
    "        for char in text: \n",
    "            code_current = ord(char)\n",
    "            if code_a <= code_current <= code_z:\n",
    "                cnt[code_current - code_a] += 1  \n",
    "        #print(cnt)\n",
    "        total = sum(cnt)\n",
    "        cnt_norm = list(map(Nomalize, cnt))   ## map(함수, 리스트) : 함수에 리스트 적용 - map 함수의 반환값이 리스트가 아니므로 list()사용\n",
    "\n",
    "        \n",
    "        # 리스트에 넣기\n",
    "        label.append(lang)\n",
    "        data.append(cnt_norm)   # 정규화 한 값으로 추가 (변경)\n",
    "    return data, label\n",
    "\n",
    "\n",
    "def show_me_the_graph(data, label):\n",
    "    def Normalize(i):\n",
    "        return i/total\n",
    "    # 그래프 준비하기\n",
    "    graph_dict = {}\n",
    "    for i in range(0, len(data)):\n",
    "        y = label[i]\n",
    "        total = sum(data[i])\n",
    "        x = list(map(Normalize, data[i]))\n",
    "        if not (y in graph_dict):\n",
    "            graph_dict[y] = x\n",
    "\n",
    "    asclist = [[chr(n) for n in range(97, 97 + 26)]]\n",
    "    df = pd.DataFrame(graph_dict, index=asclist)\n",
    "    # 바그래프\n",
    "    df.plot(kind='bar', subplots=True, ylim=(0, 0.15))\n",
    "    plt.show()"
   ]
  },
  {
   "cell_type": "code",
   "execution_count": 9,
   "metadata": {
    "scrolled": true
   },
   "outputs": [
    {
     "data": {
      "image/png": "[encoded data removed]",
      "text/plain": [
       "<Figure size 432x288 with 4 Axes>"
      ]
     },
     "metadata": {
      "needs_background": "light"
     },
     "output_type": "display_data"
    },
    {
     "name": "stdout",
     "output_type": "stream",
     "text": [
      "1.0\n"
     ]
    }
   ],
   "source": [
    "train_data, train_label = get_data_label(\"train\")\n",
    "test_data, test_label = get_data_label(\"test\")\n",
    "\n",
    "# 언어 별 알파벳 출현 빈도수 \n",
    "show_me_the_graph(train_data,train_label)\n",
    "# 알파벳 출현 빈도수를 feature로 설정\n",
    "\n",
    "model = SVC()\n",
    "model.fit(train_data, train_label)\n",
    "result = model.predict(test_data)\n",
    "score = accuracy_score(result, test_label)\n",
    "print(score)   # 정확도 1 - 완벽한 성능을 보임 -> 알파벳이 언어감지에 적합한 feature 라는 것을 알 수 있음"
   ]
  },
  {
   "cell_type": "markdown",
   "metadata": {},
   "source": [
    "높은 성능을 보이는 것을 확인했으므로 모델을 사용해보자."
   ]
  },
  {
   "cell_type": "code",
   "execution_count": 10,
   "metadata": {},
   "outputs": [
    {
     "name": "stdout",
     "output_type": "stream",
     "text": [
      "['en']\n"
     ]
    }
   ],
   "source": [
    "def Nomalize(i):\n",
    "    return i/total\n",
    "\n",
    "# test_string에 문자열을 대입하여 모델의 성능을 검증해보자.\n",
    "test_string = \"Level Mountain is a large volcanic complex in the Northern Interior of British Columbia, Canada, with a maximum elevation of 2,164 m (7,100 ft). The lower half of Level Mountain consists of a shield-like edifice while its upper half has a more steep, jagged profile. Its broad summit is dominated by the Level Mountain Range, with prominent peaks cut by deep valleys. \"\n",
    "# 알파벳 출현 빈도 구하기\n",
    "code_a = ord(\"a\")\n",
    "code_z = ord(\"z\")\n",
    "cnt = [0 for n in range(0, 26)]  # 26개의 0 - 알파벳의 개수 기본값을 0으로 설정하고, 발생 빈도에 따라 +1 (알파벳 순서)\n",
    "for char in test_string:\n",
    "    code_current = ord(char)\n",
    "    if code_a <= code_current <= code_z:\n",
    "        cnt[code_current - code_a] += 1  \n",
    "    #print(cnt)\n",
    "total = sum(cnt)\n",
    "cnt_norm = list(map(Nomalize, cnt))   ## map(함수, 리스트) : 함수에 리스트 적용 - map 함수의 반환값이 리스트가 아니므로 list()사용\n",
    "\n",
    "answer = model.predict([cnt_norm])\n",
    "print(answer)"
   ]
  },
  {
   "cell_type": "markdown",
   "metadata": {},
   "source": [
    "정답"
   ]
  }
 ],
 "metadata": {
  "kernelspec": {
   "display_name": "Python 3",
   "language": "python",
   "name": "python3"
  },
  "language_info": {
   "codemirror_mode": {
    "name": "ipython",
    "version": 3
   },
   "file_extension": ".py",
   "mimetype": "text/x-python",
   "name": "python",
   "nbconvert_exporter": "python",
   "pygments_lexer": "ipython3",
   "version": "3.7.6"
  }
 },
 "nbformat": 4,
 "nbformat_minor": 4
}
