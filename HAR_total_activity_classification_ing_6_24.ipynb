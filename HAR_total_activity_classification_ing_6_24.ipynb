{
 "cells": [
  {
   "cell_type": "code",
   "execution_count": 4,
   "id": "4e7a58a6",
   "metadata": {},
   "outputs": [],
   "source": [
    "# Importing libraries and setting the path.\n",
    "\n",
    "import numpy as np\n",
    "import pandas as pd\n",
    "import os\n",
    "import matplotlib.pyplot as plt\n",
    "\n",
    "from sklearn.model_selection import train_test_split\n",
    "from sklearn.metrics import mean_absolute_error\n",
    "\n",
    "import warnings\n",
    "warnings.filterwarnings('ignore')\n",
    "\n",
    "path = 'https://www.kaggle.com/datasets/malekzadeh/motionsense-dataset'"
   ]
  },
  {
   "cell_type": "code",
   "execution_count": 5,
   "id": "96d5b6e0",
   "metadata": {},
   "outputs": [
    {
     "ename": "OSError",
     "evalue": "[WinError 123] 파일 이름, 디렉터리 이름 또는 볼륨 레이블 구문이 잘못되었습니다: 'https://www.kaggle.com/datasets/malekzadeh/motionsense-dataset'",
     "output_type": "error",
     "traceback": [
      "\u001b[1;31m---------------------------------------------------------------------------\u001b[0m",
      "\u001b[1;31mOSError\u001b[0m                                   Traceback (most recent call last)",
      "\u001b[1;32m<ipython-input-5-22f7ad6d55cb>\u001b[0m in \u001b[0;36m<module>\u001b[1;34m\u001b[0m\n\u001b[0;32m      1\u001b[0m \u001b[1;31m# Setting up lists for importing the data.\u001b[0m\u001b[1;33m\u001b[0m\u001b[1;33m\u001b[0m\u001b[1;33m\u001b[0m\u001b[0m\n\u001b[0;32m      2\u001b[0m \u001b[1;33m\u001b[0m\u001b[0m\n\u001b[1;32m----> 3\u001b[1;33m \u001b[0mlist_of_folders\u001b[0m \u001b[1;33m=\u001b[0m \u001b[0mos\u001b[0m\u001b[1;33m.\u001b[0m\u001b[0mlistdir\u001b[0m\u001b[1;33m(\u001b[0m\u001b[0mpath\u001b[0m\u001b[1;33m)\u001b[0m\u001b[1;33m\u001b[0m\u001b[1;33m\u001b[0m\u001b[0m\n\u001b[0m\u001b[0;32m      4\u001b[0m \u001b[0mlist_of_directories\u001b[0m \u001b[1;33m=\u001b[0m \u001b[1;33m[\u001b[0m\u001b[0mpath\u001b[0m \u001b[1;33m+\u001b[0m \u001b[0mi\u001b[0m \u001b[1;32mfor\u001b[0m \u001b[0mi\u001b[0m \u001b[1;32min\u001b[0m \u001b[0mlist_of_folders\u001b[0m\u001b[1;33m]\u001b[0m\u001b[1;33m\u001b[0m\u001b[1;33m\u001b[0m\u001b[0m\n\u001b[0;32m      5\u001b[0m \u001b[0mlist_of_dfs\u001b[0m \u001b[1;33m=\u001b[0m \u001b[1;33m[\u001b[0m\u001b[1;33m]\u001b[0m\u001b[1;33m\u001b[0m\u001b[1;33m\u001b[0m\u001b[0m\n",
      "\u001b[1;31mOSError\u001b[0m: [WinError 123] 파일 이름, 디렉터리 이름 또는 볼륨 레이블 구문이 잘못되었습니다: 'https://www.kaggle.com/datasets/malekzadeh/motionsense-dataset'"
     ]
    }
   ],
   "source": [
    "# Setting up lists for importing the data.\n",
    "\n",
    "list_of_folders = os.listdir(path)\n",
    "list_of_directories = [path + i for i in list_of_folders]\n",
    "list_of_dfs = []\n",
    "\n",
    "activities = ['dws', 'ups', 'sit', 'std', 'wlk', 'jog']\n",
    "\n",
    "# Iterating through the directories and appending the dataframes for each subject in each of the trials to a list for further use.\n",
    "\n",
    "for i in list_of_directories:\n",
    "    list_of_csv = os.listdir(i)\n",
    "    for j in list_of_csv:\n",
    "        k = pd.read_csv(i + '/' + j).rename(columns={'Unnamed: 0': 'time'})\n",
    "        k['subject'] = int(j.split('_')[1].split('.')[0])\n",
    "        k['activity'] = i.split('/')[6].split('_')[0]\n",
    "        k['trial'] = int(i.split('/')[6].split('_')[1])\n",
    "        k.insert(0, 'accel_x', k['userAcceleration.x'] + k['gravity.x'])\n",
    "        k.insert(1, 'accel_y', k['userAcceleration.y'] + k['gravity.y'])\n",
    "        k.insert(2, 'accel_z', k['userAcceleration.z'] + k['gravity.z'])\n",
    "        k.insert(3, 'accel_norm', np.sqrt(k['accel_x']**2 + k['accel_y']**2 + k['accel_z']**2))\n",
    "        list_of_dfs.append(k)\n",
    "\n",
    "# Creating one big dataframe (df) from the list of all individual dataframes. Dropping unnecessary columns and renaming the ones for rotation.\n",
    "\n",
    "df = pd.concat(list_of_dfs).set_index('time')\n",
    "df = df.drop(['attitude.roll', 'attitude.pitch', 'attitude.yaw', 'gravity.x', 'gravity.y', 'gravity.z', 'userAcceleration.x', 'userAcceleration.y', 'userAcceleration.z'], axis=1)\n",
    "df = df.rename(columns={'rotationRate.x': 'gyro_x', 'rotationRate.y': 'gyro_y', 'rotationRate.z': 'gyro_z'})"
   ]
  },
  {
   "cell_type": "code",
   "execution_count": 6,
   "id": "99cec66a",
   "metadata": {},
   "outputs": [
    {
     "ename": "SyntaxError",
     "evalue": "invalid syntax (<ipython-input-6-e6af83ddf72e>, line 1)",
     "output_type": "error",
     "traceback": [
      "\u001b[1;36m  File \u001b[1;32m\"<ipython-input-6-e6af83ddf72e>\"\u001b[1;36m, line \u001b[1;32m1\u001b[0m\n\u001b[1;33m    kaggle kernels output harisharma/har-using-convolution-neural-network -p /path/to/dest\u001b[0m\n\u001b[1;37m           ^\u001b[0m\n\u001b[1;31mSyntaxError\u001b[0m\u001b[1;31m:\u001b[0m invalid syntax\n"
     ]
    }
   ],
   "source": [
    "kaggle kernels output harisharma/har-using-convolution-neural-network -p /path/to/dest"
   ]
  },
  {
   "cell_type": "markdown",
   "id": "9a7c5f61",
   "metadata": {},
   "source": [
    "https://www.kaggle.com/code/harisharma/har-using-convolution-neural-network/notebook\n",
    "\n",
    "https://github.com/mmalekzadeh/motion-sense\n",
    "\n",
    "https://www.kaggle.com/datasets/malekzadeh/motionsense-dataset"
   ]
  }
 ],
 "metadata": {
  "kernelspec": {
   "display_name": "Python 3",
   "language": "python",
   "name": "python3"
  },
  "language_info": {
   "codemirror_mode": {
    "name": "ipython",
    "version": 3
   },
   "file_extension": ".py",
   "mimetype": "text/x-python",
   "name": "python",
   "nbconvert_exporter": "python",
   "pygments_lexer": "ipython3",
   "version": "3.8.8"
  }
 },
 "nbformat": 4,
 "nbformat_minor": 5
}
